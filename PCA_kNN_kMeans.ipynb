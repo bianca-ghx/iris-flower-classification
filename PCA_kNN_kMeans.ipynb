{
 "cells": [
  {
   "cell_type": "markdown",
   "metadata": {
    "pycharm": {
     "name": "#%% md\n"
    }
   },
   "source": [
    "# Appendix - Code"
   ]
  },
  {
   "cell_type": "markdown",
   "metadata": {
    "pycharm": {
     "name": "#%% md\n"
    }
   },
   "source": [
    "## Import libraries"
   ]
  },
  {
   "cell_type": "code",
   "execution_count": 1,
   "metadata": {
    "pycharm": {
     "name": "#%%\n"
    }
   },
   "outputs": [],
   "source": [
    "import matplotlib.pyplot as plt\n",
    "plt.rcParams.update(plt.rcParamsDefault)\n",
    "import numpy as np\n",
    "import pandas as pd\n",
    "import warnings\n",
    "warnings.filterwarnings('ignore')"
   ]
  },
  {
   "cell_type": "markdown",
   "metadata": {
    "pycharm": {
     "name": "#%% md\n"
    }
   },
   "source": [
    "---"
   ]
  },
  {
   "cell_type": "markdown",
   "metadata": {
    "pycharm": {
     "name": "#%% md\n"
    }
   },
   "source": [
    "## Load Iris Dataset"
   ]
  },
  {
   "cell_type": "code",
   "execution_count": 2,
   "metadata": {
    "pycharm": {
     "name": "#%%\n"
    }
   },
   "outputs": [],
   "source": [
    "from sklearn import datasets\n",
    "iris = datasets.load_iris()"
   ]
  },
  {
   "cell_type": "code",
   "execution_count": 3,
   "metadata": {
    "pycharm": {
     "name": "#%%\n"
    }
   },
   "outputs": [],
   "source": [
    "X = iris.data\n",
    "y = iris.target"
   ]
  },
  {
   "cell_type": "markdown",
   "metadata": {
    "pycharm": {
     "name": "#%% md\n"
    }
   },
   "source": [
    "---"
   ]
  },
  {
   "cell_type": "markdown",
   "metadata": {
    "pycharm": {
     "name": "#%% md\n"
    }
   },
   "source": [
    "## Split into training and test dataset"
   ]
  },
  {
   "cell_type": "code",
   "execution_count": 4,
   "metadata": {
    "pycharm": {
     "name": "#%%\n"
    }
   },
   "outputs": [],
   "source": [
    "from sklearn.model_selection import train_test_split\n",
    "X_train, X_test, y_train, y_test = train_test_split(X, y, test_size=0.2)"
   ]
  },
  {
   "cell_type": "markdown",
   "metadata": {
    "pycharm": {
     "name": "#%% md\n"
    }
   },
   "source": [
    "---"
   ]
  },
  {
   "cell_type": "markdown",
   "metadata": {
    "pycharm": {
     "name": "#%% md\n"
    }
   },
   "source": [
    "## PCA"
   ]
  },
  {
   "cell_type": "markdown",
   "metadata": {
    "pycharm": {
     "name": "#%% md\n"
    }
   },
   "source": [
    "### Applying PCA"
   ]
  },
  {
   "cell_type": "code",
   "execution_count": 5,
   "metadata": {
    "pycharm": {
     "name": "#%%\n"
    }
   },
   "outputs": [],
   "source": [
    "n_components=4"
   ]
  },
  {
   "cell_type": "code",
   "execution_count": 6,
   "metadata": {
    "pycharm": {
     "name": "#%%\n"
    }
   },
   "outputs": [],
   "source": [
    "from sklearn.decomposition import PCA\n",
    "pca = PCA(n_components=n_components)\n",
    "X_pca_train = pca.fit_transform(X_train)\n",
    "X_pca_test = pca.transform(X_test)\n",
    "y_pca_train, y_pca_test = y_train, y_test"
   ]
  },
  {
   "cell_type": "markdown",
   "metadata": {
    "pycharm": {
     "name": "#%% md\n"
    }
   },
   "source": [
    "### Analysing PCA Results"
   ]
  },
  {
   "cell_type": "code",
   "execution_count": 7,
   "metadata": {
    "pycharm": {
     "name": "#%%\n"
    }
   },
   "outputs": [],
   "source": [
    "if n_components==2:\n",
    "    colors = {0: \"maroon\", 1: \"black\", 2: \"darkorange\"}\n",
    "    plt.figure(figsize=(5, 3))\n",
    "    for X, y in zip(X_pca_train, y_pca_train):\n",
    "        plt.scatter(X[0], X[1], color=colors[y], edgecolors=\"black\", alpha=0.6)\n",
    "    plt.xlabel(\"Principal Component 1\")\n",
    "    plt.ylabel(\"Principal Component 2\")\n",
    "    plt.show()"
   ]
  },
  {
   "cell_type": "code",
   "execution_count": 8,
   "metadata": {
    "pycharm": {
     "name": "#%%\n"
    }
   },
   "outputs": [
    {
     "data": {
      "text/plain": [
       "array([[ 0.60335504, -0.04913866,  1.14694118,  0.47295378],\n",
       "       [-0.04913866,  0.2047479 , -0.37621849, -0.14415966],\n",
       "       [ 1.14694118, -0.37621849,  2.97192157,  1.24180392],\n",
       "       [ 0.47295378, -0.14415966,  1.24180392,  0.5575098 ]])"
      ]
     },
     "execution_count": 8,
     "metadata": {},
     "output_type": "execute_result"
    }
   ],
   "source": [
    "pca.get_covariance()"
   ]
  },
  {
   "cell_type": "code",
   "execution_count": 9,
   "metadata": {
    "pycharm": {
     "name": "#%%\n"
    }
   },
   "outputs": [
    {
     "data": {
      "text/plain": [
       "array([0.92144673, 0.05709714, 0.01564435, 0.00581179])"
      ]
     },
     "execution_count": 9,
     "metadata": {},
     "output_type": "execute_result"
    }
   ],
   "source": [
    "explained_variance = pca.explained_variance_ratio_\n",
    "explained_variance"
   ]
  },
  {
   "cell_type": "code",
   "execution_count": 10,
   "metadata": {
    "pycharm": {
     "name": "#%%\n"
    },
    "scrolled": true
   },
   "outputs": [
    {
     "data": {
      "image/png": "[encoded data removed]",
      "text/plain": [
       "<Figure size 1000x200 with 2 Axes>"
      ]
     },
     "metadata": {},
     "output_type": "display_data"
    }
   ],
   "source": [
    "plt.figure(figsize=(10, 2))\n",
    "plt.subplot(1, 2, 1)\n",
    "plt.bar(range(len(explained_variance)), explained_variance, align='center', \n",
    "        color=\"maroon\")\n",
    "plt.ylabel('Individual explained variance')\n",
    "plt.xlabel('No. principal components')\n",
    "plt.xticks(list(range(len(explained_variance))))\n",
    "plt.subplot(1, 2, 2)\n",
    "plt.plot(np.cumsum((explained_variance)), color=\"maroon\")\n",
    "plt.xticks(list(range(len(explained_variance))))\n",
    "plt.ylabel('Cumulative explained variance')\n",
    "plt.xlabel('No. principal components')\n",
    "plt.show()"
   ]
  },
  {
   "cell_type": "markdown",
   "metadata": {
    "pycharm": {
     "name": "#%% md\n"
    }
   },
   "source": [
    "---"
   ]
  },
  {
   "cell_type": "markdown",
   "metadata": {
    "pycharm": {
     "name": "#%% md\n"
    }
   },
   "source": [
    "## Classification"
   ]
  },
  {
   "cell_type": "markdown",
   "metadata": {
    "pycharm": {
     "name": "#%% md\n"
    }
   },
   "source": [
    "### kNN (k=1)"
   ]
  },
  {
   "cell_type": "code",
   "execution_count": 11,
   "metadata": {
    "pycharm": {
     "name": "#%%\n"
    }
   },
   "outputs": [
    {
     "data": {
      "text/plain": [
       "KNeighborsClassifier(n_neighbors=1)"
      ]
     },
     "execution_count": 11,
     "metadata": {},
     "output_type": "execute_result"
    }
   ],
   "source": [
    "from sklearn.neighbors import KNeighborsClassifier\n",
    "knn1 = KNeighborsClassifier(n_neighbors=1)\n",
    "knn1.fit(X_pca_train, y_pca_train)"
   ]
  },
  {
   "cell_type": "code",
   "execution_count": 12,
   "metadata": {
    "pycharm": {
     "name": "#%%\n"
    }
   },
   "outputs": [],
   "source": [
    "knn1_score_pca_train = knn1.score(X_pca_train, y_pca_train)\n",
    "knn1_score_pca_test = knn1.score(X_pca_test, y_pca_test)"
   ]
  },
  {
   "cell_type": "code",
   "execution_count": 13,
   "metadata": {
    "pycharm": {
     "name": "#%%\n"
    }
   },
   "outputs": [
    {
     "name": "stdout",
     "output_type": "stream",
     "text": [
      "Train score with PCA: 1.0\n",
      "Test score with PCA: 0.9666666666666667\n"
     ]
    }
   ],
   "source": [
    "print(f\"Train score with PCA: {knn1_score_pca_train}\")\n",
    "print(f\"Test score with PCA: {knn1_score_pca_test}\")"
   ]
  },
  {
   "cell_type": "code",
   "execution_count": 14,
   "metadata": {
    "pycharm": {
     "name": "#%%\n"
    }
   },
   "outputs": [
    {
     "name": "stdout",
     "output_type": "stream",
     "text": [
      "              precision    recall  f1-score   support\n",
      "\n",
      "           0       1.00      1.00      1.00         8\n",
      "           1       1.00      0.89      0.94         9\n",
      "           2       0.93      1.00      0.96        13\n",
      "\n",
      "    accuracy                           0.97        30\n",
      "   macro avg       0.98      0.96      0.97        30\n",
      "weighted avg       0.97      0.97      0.97        30\n",
      "\n"
     ]
    },
    {
     "data": {
      "image/png": "[encoded data removed]",
      "text/plain": [
       "<Figure size 640x480 with 2 Axes>"
      ]
     },
     "metadata": {},
     "output_type": "display_data"
    }
   ],
   "source": [
    "from sklearn.metrics import plot_confusion_matrix, classification_report\n",
    "y_pca_pred = knn1.predict(X_pca_test)\n",
    "print(classification_report(y_pca_test, y_pca_pred))\n",
    "plot_confusion_matrix(knn1, X_pca_test, y_pca_test, cmap=\"gist_heat\")\n",
    "# plt.savefig(f\"poze/result_1knn_{n_components}comp_classification_matrix.jpg\")\n",
    "plt.show()"
   ]
  },
  {
   "cell_type": "markdown",
   "metadata": {
    "pycharm": {
     "name": "#%% md\n"
    }
   },
   "source": [
    "### kNN (k=3)"
   ]
  },
  {
   "cell_type": "code",
   "execution_count": 15,
   "metadata": {
    "pycharm": {
     "name": "#%%\n"
    }
   },
   "outputs": [
    {
     "data": {
      "text/plain": [
       "KNeighborsClassifier(n_neighbors=3)"
      ]
     },
     "execution_count": 15,
     "metadata": {},
     "output_type": "execute_result"
    }
   ],
   "source": [
    "from sklearn.neighbors import KNeighborsClassifier\n",
    "knn3 = KNeighborsClassifier(3)\n",
    "knn3.fit(X_pca_train, y_pca_train)"
   ]
  },
  {
   "cell_type": "code",
   "execution_count": 16,
   "metadata": {
    "pycharm": {
     "name": "#%%\n"
    }
   },
   "outputs": [],
   "source": [
    "knn3_score_pca_train = knn3.score(X_pca_train, y_pca_train)\n",
    "knn3_score_pca_test = knn3.score(X_pca_test, y_pca_test)"
   ]
  },
  {
   "cell_type": "code",
   "execution_count": 17,
   "metadata": {
    "pycharm": {
     "name": "#%%\n"
    }
   },
   "outputs": [
    {
     "name": "stdout",
     "output_type": "stream",
     "text": [
      "Train score with PCA: 0.9583333333333334\n",
      "Test score with PCA: 0.9666666666666667\n"
     ]
    }
   ],
   "source": [
    "print(f\"Train score with PCA: {knn3_score_pca_train}\")\n",
    "print(f\"Test score with PCA: {knn3_score_pca_test}\")"
   ]
  },
  {
   "cell_type": "code",
   "execution_count": 18,
   "metadata": {
    "pycharm": {
     "name": "#%%\n"
    }
   },
   "outputs": [
    {
     "name": "stdout",
     "output_type": "stream",
     "text": [
      "              precision    recall  f1-score   support\n",
      "\n",
      "           0       1.00      1.00      1.00         8\n",
      "           1       1.00      0.89      0.94         9\n",
      "           2       0.93      1.00      0.96        13\n",
      "\n",
      "    accuracy                           0.97        30\n",
      "   macro avg       0.98      0.96      0.97        30\n",
      "weighted avg       0.97      0.97      0.97        30\n",
      "\n"
     ]
    },
    {
     "data": {
      "image/png": "[encoded data removed]",
      "text/plain": [
       "<Figure size 640x480 with 2 Axes>"
      ]
     },
     "metadata": {},
     "output_type": "display_data"
    }
   ],
   "source": [
    "from sklearn.metrics import plot_confusion_matrix, classification_report\n",
    "y_pca_pred = knn3.predict(X_pca_test)\n",
    "print(classification_report(y_pca_test, y_pca_pred))\n",
    "plot_confusion_matrix(knn3, X_pca_test, y_pca_test, cmap=\"gist_heat\")\n",
    "# plt.savefig(f\"poze/result_3knn_{n_components}comp_classification_matrix.jpg\")\n",
    "plt.show()"
   ]
  },
  {
   "cell_type": "markdown",
   "metadata": {
    "pycharm": {
     "name": "#%% md\n"
    }
   },
   "source": [
    "### Supervised k-Means"
   ]
  },
  {
   "cell_type": "code",
   "execution_count": 19,
   "metadata": {
    "pycharm": {
     "name": "#%%\n"
    }
   },
   "outputs": [
    {
     "data": {
      "text/plain": [
       "NearestCentroid()"
      ]
     },
     "execution_count": 19,
     "metadata": {},
     "output_type": "execute_result"
    }
   ],
   "source": [
    "from sklearn.neighbors import NearestCentroid\n",
    "nc = NearestCentroid()\n",
    "nc.fit(X_pca_train, y_pca_train)"
   ]
  },
  {
   "cell_type": "code",
   "execution_count": 20,
   "metadata": {
    "pycharm": {
     "name": "#%%\n"
    }
   },
   "outputs": [],
   "source": [
    "nc_score_train = nc.score(X_pca_train, y_pca_train)\n",
    "nc_score_test = nc.score(X_pca_test, y_pca_test)"
   ]
  },
  {
   "cell_type": "code",
   "execution_count": 21,
   "metadata": {
    "pycharm": {
     "name": "#%%\n"
    }
   },
   "outputs": [
    {
     "name": "stdout",
     "output_type": "stream",
     "text": [
      "Train score with PCA: 0.9416666666666667\n",
      "Test score with PCA: 0.8666666666666667\n"
     ]
    }
   ],
   "source": [
    "print(f\"Train score with PCA: {nc_score_train}\")\n",
    "print(f\"Test score with PCA: {nc_score_test}\")"
   ]
  },
  {
   "cell_type": "code",
   "execution_count": 22,
   "metadata": {
    "pycharm": {
     "name": "#%%\n"
    }
   },
   "outputs": [
    {
     "name": "stdout",
     "output_type": "stream",
     "text": [
      "              precision    recall  f1-score   support\n",
      "\n",
      "           0       1.00      1.00      1.00         8\n",
      "           1       1.00      0.56      0.71         9\n",
      "           2       0.76      1.00      0.87        13\n",
      "\n",
      "    accuracy                           0.87        30\n",
      "   macro avg       0.92      0.85      0.86        30\n",
      "weighted avg       0.90      0.87      0.86        30\n",
      "\n"
     ]
    },
    {
     "data": {
      "image/png": "[encoded data removed]",
      "text/plain": [
       "<Figure size 640x480 with 2 Axes>"
      ]
     },
     "metadata": {},
     "output_type": "display_data"
    }
   ],
   "source": [
    "from sklearn.metrics import plot_confusion_matrix, classification_report\n",
    "y_pca_pred = nc.predict(X_pca_test)\n",
    "print(classification_report(y_pca_test, y_pca_pred))\n",
    "plot_confusion_matrix(nc, X_pca_test, y_pca_test, cmap=\"gist_heat\")\n",
    "# plt.savefig(f\"poze/result_nc_{n_components}comp_classification_matrix.jpg\")\n",
    "plt.show()"
   ]
  },
  {
   "cell_type": "markdown",
   "metadata": {
    "pycharm": {
     "name": "#%% md\n"
    }
   },
   "source": [
    "### GridSearch"
   ]
  },
  {
   "cell_type": "code",
   "execution_count": 24,
   "metadata": {
    "pycharm": {
     "name": "#%%\n"
    }
   },
   "outputs": [],
   "source": [
    "from sklearn.neighbors import KNeighborsClassifier\n",
    "from sklearn.neighbors import NearestCentroid\n",
    "\n",
    "model_params = {\n",
    "    '1KNN' : {\n",
    "        'model': KNeighborsClassifier(),\n",
    "        'params': {\n",
    "            'n_neighbors': [1],\n",
    "            'metric': [\"minkowski\", \"euclidean\", \"manhattan\", \"chebyshev\", \"cosine\", \"hamming\", \"canberra\", \"braycurtis\"]\n",
    "        }\n",
    "    },\n",
    "    '3KNN' : {\n",
    "        'model': KNeighborsClassifier(),\n",
    "        'params': {\n",
    "            'n_neighbors': [3],\n",
    "            'metric': [\"minkowski\", \"euclidean\", \"manhattan\", \"chebyshev\", \"cosine\", \"hamming\", \"canberra\", \"braycurtis\"]\n",
    "        }\n",
    "    }, \n",
    "    'NC' : {\n",
    "        'model': NearestCentroid(),\n",
    "        'params': {\n",
    "            'metric': [\"minkowski\", \"euclidean\", \"manhattan\", \"chebyshev\", \"cosine\", \"hamming\", \"canberra\", \"braycurtis\"]\n",
    "        }\n",
    "    }\n",
    "    \n",
    "}"
   ]
  },
  {
   "cell_type": "code",
   "execution_count": 25,
   "metadata": {
    "pycharm": {
     "name": "#%%\n"
    }
   },
   "outputs": [
    {
     "name": "stdout",
     "output_type": "stream",
     "text": [
      "Fitting 20 folds for each of 8 candidates, totalling 160 fits\n",
      "[CV 1/20] END metric=minkowski, n_neighbors=1;, score=(train=1.000, test=1.000) total time=   0.0s\n",
      "[CV 2/20] END metric=minkowski, n_neighbors=1;, score=(train=1.000, test=1.000) total time=   0.0s\n",
      "[CV 3/20] END metric=minkowski, n_neighbors=1;, score=(train=1.000, test=1.000) total time=   0.0s\n",
      "[CV 4/20] END metric=minkowski, n_neighbors=1;, score=(train=1.000, test=0.833) total time=   0.0s\n",
      "[CV 5/20] END metric=minkowski, n_neighbors=1;, score=(train=1.000, test=1.000) total time=   0.0s\n",
      "[CV 6/20] END metric=minkowski, n_neighbors=1;, score=(train=1.000, test=0.833) total time=   0.0s\n",
      "[CV 7/20] END metric=minkowski, n_neighbors=1;, score=(train=1.000, test=1.000) total time=   0.0s\n",
      "[CV 8/20] END metric=minkowski, n_neighbors=1;, score=(train=1.000, test=1.000) total time=   0.0s\n",
      "[CV 9/20] END metric=minkowski, n_neighbors=1;, score=(train=1.000, test=1.000) total time=   0.0s\n",
      "[CV 10/20] END metric=minkowski, n_neighbors=1;, score=(train=1.000, test=1.000) total time=   0.0s\n",
      "[CV 11/20] END metric=minkowski, n_neighbors=1;, score=(train=1.000, test=1.000) total time=   0.0s\n",
      "[CV 12/20] END metric=minkowski, n_neighbors=1;, score=(train=1.000, test=1.000) total time=   0.0s\n",
      "[CV 13/20] END metric=minkowski, n_neighbors=1;, score=(train=1.000, test=1.000) total time=   0.0s\n",
      "[CV 14/20] END metric=minkowski, n_neighbors=1;, score=(train=1.000, test=0.833) total time=   0.0s\n",
      "[CV 15/20] END metric=minkowski, n_neighbors=1;, score=(train=1.000, test=1.000) total time=   0.0s\n",
      "[CV 16/20] END metric=minkowski, n_neighbors=1;, score=(train=1.000, test=1.000) total time=   0.0s\n",
      "[CV 17/20] END metric=minkowski, n_neighbors=1;, score=(train=1.000, test=1.000) total time=   0.0s\n",
      "[CV 18/20] END metric=minkowski, n_neighbors=1;, score=(train=1.000, test=1.000) total time=   0.0s\n",
      "[CV 19/20] END metric=minkowski, n_neighbors=1;, score=(train=1.000, test=0.833) total time=   0.0s\n",
      "[CV 20/20] END metric=minkowski, n_neighbors=1;, score=(train=1.000, test=0.833) total time=   0.0s\n",
      "[CV 1/20] END metric=euclidean, n_neighbors=1;, score=(train=1.000, test=1.000) total time=   0.0s\n",
      "[CV 2/20] END metric=euclidean, n_neighbors=1;, score=(train=1.000, test=1.000) total time=   0.0s\n",
      "[CV 3/20] END metric=euclidean, n_neighbors=1;, score=(train=1.000, test=1.000) total time=   0.0s\n",
      "[CV 4/20] END metric=euclidean, n_neighbors=1;, score=(train=1.000, test=0.833) total time=   0.0s\n",
      "[CV 5/20] END metric=euclidean, n_neighbors=1;, score=(train=1.000, test=1.000) total time=   0.0s\n",
      "[CV 6/20] END metric=euclidean, n_neighbors=1;, score=(train=1.000, test=0.833) total time=   0.0s\n",
      "[CV 7/20] END metric=euclidean, n_neighbors=1;, score=(train=1.000, test=1.000) total time=   0.0s\n",
      "[CV 8/20] END metric=euclidean, n_neighbors=1;, score=(train=1.000, test=1.000) total time=   0.0s\n",
      "[CV 9/20] END metric=euclidean, n_neighbors=1;, score=(train=1.000, test=1.000) total time=   0.0s\n",
      "[CV 10/20] END metric=euclidean, n_neighbors=1;, score=(train=1.000, test=1.000) total time=   0.0s\n",
      "[CV 11/20] END metric=euclidean, n_neighbors=1;, score=(train=1.000, test=1.000) total time=   0.0s\n",
      "[CV 12/20] END metric=euclidean, n_neighbors=1;, score=(train=1.000, test=1.000) total time=   0.0s\n",
      "[CV 13/20] END metric=euclidean, n_neighbors=1;, score=(train=1.000, test=1.000) total time=   0.0s\n",
      "[CV 14/20] END metric=euclidean, n_neighbors=1;, score=(train=1.000, test=0.833) total time=   0.0s\n",
      "[CV 15/20] END metric=euclidean, n_neighbors=1;, score=(train=1.000, test=1.000) total time=   0.0s\n",
      "[CV 16/20] END metric=euclidean, n_neighbors=1;, score=(train=1.000, test=1.000) total time=   0.0s\n",
      "[CV 17/20] END metric=euclidean, n_neighbors=1;, score=(train=1.000, test=1.000) total time=   0.0s\n",
      "[CV 18/20] END metric=euclidean, n_neighbors=1;, score=(train=1.000, test=1.000) total time=   0.0s\n",
      "[CV 19/20] END metric=euclidean, n_neighbors=1;, score=(train=1.000, test=0.833) total time=   0.0s\n",
      "[CV 20/20] END metric=euclidean, n_neighbors=1;, score=(train=1.000, test=0.833) total time=   0.0s\n",
      "[CV 1/20] END metric=manhattan, n_neighbors=1;, score=(train=1.000, test=0.833) total time=   0.0s\n",
      "[CV 2/20] END metric=manhattan, n_neighbors=1;, score=(train=1.000, test=1.000) total time=   0.0s\n",
      "[CV 3/20] END metric=manhattan, n_neighbors=1;, score=(train=1.000, test=1.000) total time=   0.0s\n",
      "[CV 4/20] END metric=manhattan, n_neighbors=1;, score=(train=1.000, test=0.833) total time=   0.0s\n",
      "[CV 5/20] END metric=manhattan, n_neighbors=1;, score=(train=1.000, test=1.000) total time=   0.0s\n",
      "[CV 6/20] END metric=manhattan, n_neighbors=1;, score=(train=1.000, test=0.833) total time=   0.0s\n",
      "[CV 7/20] END metric=manhattan, n_neighbors=1;, score=(train=1.000, test=1.000) total time=   0.0s\n",
      "[CV 8/20] END metric=manhattan, n_neighbors=1;, score=(train=1.000, test=1.000) total time=   0.0s\n",
      "[CV 9/20] END metric=manhattan, n_neighbors=1;, score=(train=1.000, test=1.000) total time=   0.0s\n",
      "[CV 10/20] END metric=manhattan, n_neighbors=1;, score=(train=1.000, test=1.000) total time=   0.0s\n",
      "[CV 11/20] END metric=manhattan, n_neighbors=1;, score=(train=1.000, test=1.000) total time=   0.0s\n",
      "[CV 12/20] END metric=manhattan, n_neighbors=1;, score=(train=1.000, test=1.000) total time=   0.0s\n",
      "[CV 13/20] END metric=manhattan, n_neighbors=1;, score=(train=1.000, test=1.000) total time=   0.0s\n",
      "[CV 14/20] END metric=manhattan, n_neighbors=1;, score=(train=1.000, test=0.833) total time=   0.0s\n",
      "[CV 15/20] END metric=manhattan, n_neighbors=1;, score=(train=1.000, test=1.000) total time=   0.0s\n",
      "[CV 16/20] END metric=manhattan, n_neighbors=1;, score=(train=1.000, test=1.000) total time=   0.0s\n",
      "[CV 17/20] END metric=manhattan, n_neighbors=1;, score=(train=1.000, test=1.000) total time=   0.0s\n",
      "[CV 18/20] END metric=manhattan, n_neighbors=1;, score=(train=1.000, test=1.000) total time=   0.0s\n",
      "[CV 19/20] END metric=manhattan, n_neighbors=1;, score=(train=1.000, test=0.833) total time=   0.0s\n",
      "[CV 20/20] END metric=manhattan, n_neighbors=1;, score=(train=1.000, test=0.833) total time=   0.0s\n",
      "[CV 1/20] END metric=chebyshev, n_neighbors=1;, score=(train=1.000, test=1.000) total time=   0.0s\n",
      "[CV 2/20] END metric=chebyshev, n_neighbors=1;, score=(train=1.000, test=1.000) total time=   0.0s\n",
      "[CV 3/20] END metric=chebyshev, n_neighbors=1;, score=(train=1.000, test=1.000) total time=   0.0s\n",
      "[CV 4/20] END metric=chebyshev, n_neighbors=1;, score=(train=1.000, test=0.833) total time=   0.0s\n",
      "[CV 5/20] END metric=chebyshev, n_neighbors=1;, score=(train=1.000, test=1.000) total time=   0.0s\n",
      "[CV 6/20] END metric=chebyshev, n_neighbors=1;, score=(train=1.000, test=0.833) total time=   0.0s\n",
      "[CV 7/20] END metric=chebyshev, n_neighbors=1;, score=(train=1.000, test=1.000) total time=   0.0s\n",
      "[CV 8/20] END metric=chebyshev, n_neighbors=1;, score=(train=1.000, test=1.000) total time=   0.0s\n",
      "[CV 9/20] END metric=chebyshev, n_neighbors=1;, score=(train=1.000, test=1.000) total time=   0.0s\n",
      "[CV 10/20] END metric=chebyshev, n_neighbors=1;, score=(train=1.000, test=1.000) total time=   0.0s\n",
      "[CV 11/20] END metric=chebyshev, n_neighbors=1;, score=(train=1.000, test=1.000) total time=   0.0s\n",
      "[CV 12/20] END metric=chebyshev, n_neighbors=1;, score=(train=1.000, test=1.000) total time=   0.0s\n",
      "[CV 13/20] END metric=chebyshev, n_neighbors=1;, score=(train=1.000, test=1.000) total time=   0.0s\n",
      "[CV 14/20] END metric=chebyshev, n_neighbors=1;, score=(train=1.000, test=0.833) total time=   0.0s\n",
      "[CV 15/20] END metric=chebyshev, n_neighbors=1;, score=(train=1.000, test=1.000) total time=   0.0s\n",
      "[CV 16/20] END metric=chebyshev, n_neighbors=1;, score=(train=1.000, test=1.000) total time=   0.0s\n",
      "[CV 17/20] END metric=chebyshev, n_neighbors=1;, score=(train=1.000, test=1.000) total time=   0.0s\n",
      "[CV 18/20] END metric=chebyshev, n_neighbors=1;, score=(train=1.000, test=1.000) total time=   0.0s\n",
      "[CV 19/20] END metric=chebyshev, n_neighbors=1;, score=(train=1.000, test=0.833) total time=   0.0s\n",
      "[CV 20/20] END metric=chebyshev, n_neighbors=1;, score=(train=1.000, test=0.833) total time=   0.0s\n",
      "[CV 1/20] END metric=cosine, n_neighbors=1;, score=(train=1.000, test=1.000) total time=   0.0s\n",
      "[CV 2/20] END metric=cosine, n_neighbors=1;, score=(train=1.000, test=1.000) total time=   0.0s\n",
      "[CV 3/20] END metric=cosine, n_neighbors=1;, score=(train=1.000, test=0.833) total time=   0.0s\n",
      "[CV 4/20] END metric=cosine, n_neighbors=1;, score=(train=1.000, test=1.000) total time=   0.0s\n",
      "[CV 5/20] END metric=cosine, n_neighbors=1;, score=(train=1.000, test=1.000) total time=   0.0s\n",
      "[CV 6/20] END metric=cosine, n_neighbors=1;, score=(train=1.000, test=1.000) total time=   0.0s\n",
      "[CV 7/20] END metric=cosine, n_neighbors=1;, score=(train=1.000, test=1.000) total time=   0.0s\n",
      "[CV 8/20] END metric=cosine, n_neighbors=1;, score=(train=1.000, test=1.000) total time=   0.0s\n",
      "[CV 9/20] END metric=cosine, n_neighbors=1;, score=(train=1.000, test=1.000) total time=   0.0s\n",
      "[CV 10/20] END metric=cosine, n_neighbors=1;, score=(train=1.000, test=1.000) total time=   0.0s\n",
      "[CV 11/20] END metric=cosine, n_neighbors=1;, score=(train=1.000, test=1.000) total time=   0.0s\n",
      "[CV 12/20] END metric=cosine, n_neighbors=1;, score=(train=1.000, test=1.000) total time=   0.0s\n",
      "[CV 13/20] END metric=cosine, n_neighbors=1;, score=(train=1.000, test=1.000) total time=   0.0s\n",
      "[CV 14/20] END metric=cosine, n_neighbors=1;, score=(train=1.000, test=1.000) total time=   0.0s\n",
      "[CV 15/20] END metric=cosine, n_neighbors=1;, score=(train=1.000, test=1.000) total time=   0.0s\n",
      "[CV 16/20] END metric=cosine, n_neighbors=1;, score=(train=1.000, test=0.833) total time=   0.0s\n",
      "[CV 17/20] END metric=cosine, n_neighbors=1;, score=(train=1.000, test=0.833) total time=   0.0s\n",
      "[CV 18/20] END metric=cosine, n_neighbors=1;, score=(train=1.000, test=1.000) total time=   0.0s\n",
      "[CV 19/20] END metric=cosine, n_neighbors=1;, score=(train=1.000, test=0.833) total time=   0.0s\n",
      "[CV 20/20] END metric=cosine, n_neighbors=1;, score=(train=1.000, test=0.833) total time=   0.0s\n",
      "[CV 1/20] END metric=hamming, n_neighbors=1;, score=(train=1.000, test=0.833) total time=   0.0s\n",
      "[CV 2/20] END metric=hamming, n_neighbors=1;, score=(train=1.000, test=1.000) total time=   0.0s\n",
      "[CV 3/20] END metric=hamming, n_neighbors=1;, score=(train=1.000, test=0.833) total time=   0.0s\n",
      "[CV 4/20] END metric=hamming, n_neighbors=1;, score=(train=1.000, test=0.833) total time=   0.0s\n",
      "[CV 5/20] END metric=hamming, n_neighbors=1;, score=(train=1.000, test=0.833) total time=   0.0s\n",
      "[CV 6/20] END metric=hamming, n_neighbors=1;, score=(train=1.000, test=0.833) total time=   0.0s\n",
      "[CV 7/20] END metric=hamming, n_neighbors=1;, score=(train=1.000, test=0.833) total time=   0.0s\n",
      "[CV 8/20] END metric=hamming, n_neighbors=1;, score=(train=1.000, test=0.667) total time=   0.0s\n",
      "[CV 9/20] END metric=hamming, n_neighbors=1;, score=(train=1.000, test=1.000) total time=   0.0s\n",
      "[CV 10/20] END metric=hamming, n_neighbors=1;, score=(train=1.000, test=0.667) total time=   0.0s\n",
      "[CV 11/20] END metric=hamming, n_neighbors=1;, score=(train=1.000, test=0.667) total time=   0.0s\n",
      "[CV 12/20] END metric=hamming, n_neighbors=1;, score=(train=1.000, test=0.833) total time=   0.0s\n",
      "[CV 13/20] END metric=hamming, n_neighbors=1;, score=(train=1.000, test=0.833) total time=   0.0s\n",
      "[CV 14/20] END metric=hamming, n_neighbors=1;, score=(train=1.000, test=0.833) total time=   0.0s\n",
      "[CV 15/20] END metric=hamming, n_neighbors=1;, score=(train=1.000, test=0.833) total time=   0.0s\n",
      "[CV 16/20] END metric=hamming, n_neighbors=1;, score=(train=1.000, test=0.833) total time=   0.0s\n"
     ]
    },
    {
     "name": "stdout",
     "output_type": "stream",
     "text": [
      "[CV 17/20] END metric=hamming, n_neighbors=1;, score=(train=1.000, test=0.833) total time=   0.0s\n",
      "[CV 18/20] END metric=hamming, n_neighbors=1;, score=(train=1.000, test=0.833) total time=   0.0s\n",
      "[CV 19/20] END metric=hamming, n_neighbors=1;, score=(train=1.000, test=0.667) total time=   0.0s\n",
      "[CV 20/20] END metric=hamming, n_neighbors=1;, score=(train=1.000, test=0.833) total time=   0.0s\n",
      "[CV 1/20] END metric=canberra, n_neighbors=1;, score=(train=1.000, test=1.000) total time=   0.0s\n",
      "[CV 2/20] END metric=canberra, n_neighbors=1;, score=(train=1.000, test=1.000) total time=   0.0s\n",
      "[CV 3/20] END metric=canberra, n_neighbors=1;, score=(train=1.000, test=1.000) total time=   0.0s\n",
      "[CV 4/20] END metric=canberra, n_neighbors=1;, score=(train=1.000, test=0.833) total time=   0.0s\n",
      "[CV 5/20] END metric=canberra, n_neighbors=1;, score=(train=1.000, test=1.000) total time=   0.0s\n",
      "[CV 6/20] END metric=canberra, n_neighbors=1;, score=(train=1.000, test=0.833) total time=   0.0s\n",
      "[CV 7/20] END metric=canberra, n_neighbors=1;, score=(train=1.000, test=1.000) total time=   0.0s\n",
      "[CV 8/20] END metric=canberra, n_neighbors=1;, score=(train=1.000, test=1.000) total time=   0.0s\n",
      "[CV 9/20] END metric=canberra, n_neighbors=1;, score=(train=1.000, test=1.000) total time=   0.0s\n",
      "[CV 10/20] END metric=canberra, n_neighbors=1;, score=(train=1.000, test=1.000) total time=   0.0s\n",
      "[CV 11/20] END metric=canberra, n_neighbors=1;, score=(train=1.000, test=1.000) total time=   0.0s\n",
      "[CV 12/20] END metric=canberra, n_neighbors=1;, score=(train=1.000, test=1.000) total time=   0.0s\n",
      "[CV 13/20] END metric=canberra, n_neighbors=1;, score=(train=1.000, test=1.000) total time=   0.0s\n",
      "[CV 14/20] END metric=canberra, n_neighbors=1;, score=(train=1.000, test=0.833) total time=   0.0s\n",
      "[CV 15/20] END metric=canberra, n_neighbors=1;, score=(train=1.000, test=0.833) total time=   0.0s\n",
      "[CV 16/20] END metric=canberra, n_neighbors=1;, score=(train=1.000, test=0.833) total time=   0.0s\n",
      "[CV 17/20] END metric=canberra, n_neighbors=1;, score=(train=1.000, test=1.000) total time=   0.0s\n",
      "[CV 18/20] END metric=canberra, n_neighbors=1;, score=(train=1.000, test=1.000) total time=   0.0s\n",
      "[CV 19/20] END metric=canberra, n_neighbors=1;, score=(train=1.000, test=0.833) total time=   0.0s\n",
      "[CV 20/20] END metric=canberra, n_neighbors=1;, score=(train=1.000, test=0.833) total time=   0.0s\n",
      "[CV 1/20] END metric=braycurtis, n_neighbors=1;, score=(train=1.000, test=1.000) total time=   0.0s\n",
      "[CV 2/20] END metric=braycurtis, n_neighbors=1;, score=(train=1.000, test=1.000) total time=   0.0s\n",
      "[CV 3/20] END metric=braycurtis, n_neighbors=1;, score=(train=1.000, test=1.000) total time=   0.0s\n",
      "[CV 4/20] END metric=braycurtis, n_neighbors=1;, score=(train=1.000, test=0.833) total time=   0.0s\n",
      "[CV 5/20] END metric=braycurtis, n_neighbors=1;, score=(train=1.000, test=1.000) total time=   0.0s\n",
      "[CV 6/20] END metric=braycurtis, n_neighbors=1;, score=(train=1.000, test=0.833) total time=   0.0s\n",
      "[CV 7/20] END metric=braycurtis, n_neighbors=1;, score=(train=1.000, test=1.000) total time=   0.0s\n",
      "[CV 8/20] END metric=braycurtis, n_neighbors=1;, score=(train=1.000, test=1.000) total time=   0.0s\n",
      "[CV 9/20] END metric=braycurtis, n_neighbors=1;, score=(train=1.000, test=1.000) total time=   0.0s\n",
      "[CV 10/20] END metric=braycurtis, n_neighbors=1;, score=(train=1.000, test=1.000) total time=   0.0s\n",
      "[CV 11/20] END metric=braycurtis, n_neighbors=1;, score=(train=1.000, test=1.000) total time=   0.0s\n",
      "[CV 12/20] END metric=braycurtis, n_neighbors=1;, score=(train=1.000, test=1.000) total time=   0.0s\n",
      "[CV 13/20] END metric=braycurtis, n_neighbors=1;, score=(train=1.000, test=1.000) total time=   0.0s\n",
      "[CV 14/20] END metric=braycurtis, n_neighbors=1;, score=(train=1.000, test=0.833) total time=   0.0s\n",
      "[CV 15/20] END metric=braycurtis, n_neighbors=1;, score=(train=1.000, test=1.000) total time=   0.0s\n",
      "[CV 16/20] END metric=braycurtis, n_neighbors=1;, score=(train=1.000, test=1.000) total time=   0.0s\n",
      "[CV 17/20] END metric=braycurtis, n_neighbors=1;, score=(train=1.000, test=1.000) total time=   0.0s\n",
      "[CV 18/20] END metric=braycurtis, n_neighbors=1;, score=(train=1.000, test=1.000) total time=   0.0s\n",
      "[CV 19/20] END metric=braycurtis, n_neighbors=1;, score=(train=1.000, test=0.833) total time=   0.0s\n",
      "[CV 20/20] END metric=braycurtis, n_neighbors=1;, score=(train=1.000, test=0.833) total time=   0.0s\n",
      "Fitting 20 folds for each of 8 candidates, totalling 160 fits\n",
      "[CV 1/20] END metric=minkowski, n_neighbors=3;, score=(train=0.956, test=1.000) total time=   0.0s\n",
      "[CV 2/20] END metric=minkowski, n_neighbors=3;, score=(train=0.956, test=1.000) total time=   0.0s\n",
      "[CV 3/20] END metric=minkowski, n_neighbors=3;, score=(train=0.956, test=1.000) total time=   0.0s\n",
      "[CV 4/20] END metric=minkowski, n_neighbors=3;, score=(train=0.965, test=0.833) total time=   0.0s\n",
      "[CV 5/20] END metric=minkowski, n_neighbors=3;, score=(train=0.956, test=1.000) total time=   0.0s\n",
      "[CV 6/20] END metric=minkowski, n_neighbors=3;, score=(train=0.965, test=0.833) total time=   0.0s\n",
      "[CV 7/20] END metric=minkowski, n_neighbors=3;, score=(train=0.956, test=1.000) total time=   0.0s\n",
      "[CV 8/20] END metric=minkowski, n_neighbors=3;, score=(train=0.956, test=1.000) total time=   0.0s\n",
      "[CV 9/20] END metric=minkowski, n_neighbors=3;, score=(train=0.956, test=1.000) total time=   0.0s\n",
      "[CV 10/20] END metric=minkowski, n_neighbors=3;, score=(train=0.956, test=1.000) total time=   0.0s\n",
      "[CV 11/20] END metric=minkowski, n_neighbors=3;, score=(train=0.956, test=1.000) total time=   0.0s\n",
      "[CV 12/20] END metric=minkowski, n_neighbors=3;, score=(train=0.956, test=1.000) total time=   0.0s\n",
      "[CV 13/20] END metric=minkowski, n_neighbors=3;, score=(train=0.956, test=1.000) total time=   0.0s\n",
      "[CV 14/20] END metric=minkowski, n_neighbors=3;, score=(train=0.965, test=0.833) total time=   0.0s\n",
      "[CV 15/20] END metric=minkowski, n_neighbors=3;, score=(train=0.956, test=1.000) total time=   0.0s\n",
      "[CV 16/20] END metric=minkowski, n_neighbors=3;, score=(train=0.956, test=1.000) total time=   0.0s\n",
      "[CV 17/20] END metric=minkowski, n_neighbors=3;, score=(train=0.956, test=1.000) total time=   0.0s\n",
      "[CV 18/20] END metric=minkowski, n_neighbors=3;, score=(train=0.956, test=1.000) total time=   0.0s\n",
      "[CV 19/20] END metric=minkowski, n_neighbors=3;, score=(train=0.974, test=0.833) total time=   0.0s\n",
      "[CV 20/20] END metric=minkowski, n_neighbors=3;, score=(train=0.974, test=0.833) total time=   0.0s\n",
      "[CV 1/20] END metric=euclidean, n_neighbors=3;, score=(train=0.956, test=1.000) total time=   0.0s\n",
      "[CV 2/20] END metric=euclidean, n_neighbors=3;, score=(train=0.956, test=1.000) total time=   0.0s\n",
      "[CV 3/20] END metric=euclidean, n_neighbors=3;, score=(train=0.956, test=1.000) total time=   0.0s\n",
      "[CV 4/20] END metric=euclidean, n_neighbors=3;, score=(train=0.965, test=0.833) total time=   0.0s\n",
      "[CV 5/20] END metric=euclidean, n_neighbors=3;, score=(train=0.956, test=1.000) total time=   0.0s\n",
      "[CV 6/20] END metric=euclidean, n_neighbors=3;, score=(train=0.965, test=0.833) total time=   0.0s\n",
      "[CV 7/20] END metric=euclidean, n_neighbors=3;, score=(train=0.956, test=1.000) total time=   0.0s\n",
      "[CV 8/20] END metric=euclidean, n_neighbors=3;, score=(train=0.956, test=1.000) total time=   0.0s\n",
      "[CV 9/20] END metric=euclidean, n_neighbors=3;, score=(train=0.956, test=1.000) total time=   0.0s\n",
      "[CV 10/20] END metric=euclidean, n_neighbors=3;, score=(train=0.956, test=1.000) total time=   0.0s\n",
      "[CV 11/20] END metric=euclidean, n_neighbors=3;, score=(train=0.956, test=1.000) total time=   0.0s\n",
      "[CV 12/20] END metric=euclidean, n_neighbors=3;, score=(train=0.956, test=1.000) total time=   0.0s\n",
      "[CV 13/20] END metric=euclidean, n_neighbors=3;, score=(train=0.956, test=1.000) total time=   0.0s\n",
      "[CV 14/20] END metric=euclidean, n_neighbors=3;, score=(train=0.965, test=0.833) total time=   0.0s\n",
      "[CV 15/20] END metric=euclidean, n_neighbors=3;, score=(train=0.956, test=1.000) total time=   0.0s\n",
      "[CV 16/20] END metric=euclidean, n_neighbors=3;, score=(train=0.956, test=1.000) total time=   0.0s\n",
      "[CV 17/20] END metric=euclidean, n_neighbors=3;, score=(train=0.956, test=1.000) total time=   0.0s\n",
      "[CV 18/20] END metric=euclidean, n_neighbors=3;, score=(train=0.956, test=1.000) total time=   0.0s\n",
      "[CV 19/20] END metric=euclidean, n_neighbors=3;, score=(train=0.974, test=0.833) total time=   0.0s\n",
      "[CV 20/20] END metric=euclidean, n_neighbors=3;, score=(train=0.974, test=0.833) total time=   0.0s\n",
      "[CV 1/20] END metric=manhattan, n_neighbors=3;, score=(train=0.956, test=1.000) total time=   0.0s\n",
      "[CV 2/20] END metric=manhattan, n_neighbors=3;, score=(train=0.956, test=1.000) total time=   0.0s\n",
      "[CV 3/20] END metric=manhattan, n_neighbors=3;, score=(train=0.956, test=1.000) total time=   0.0s\n",
      "[CV 4/20] END metric=manhattan, n_neighbors=3;, score=(train=0.965, test=0.833) total time=   0.0s\n",
      "[CV 5/20] END metric=manhattan, n_neighbors=3;, score=(train=0.956, test=1.000) total time=   0.0s\n",
      "[CV 6/20] END metric=manhattan, n_neighbors=3;, score=(train=0.965, test=0.833) total time=   0.0s\n",
      "[CV 7/20] END metric=manhattan, n_neighbors=3;, score=(train=0.956, test=1.000) total time=   0.0s\n",
      "[CV 8/20] END metric=manhattan, n_neighbors=3;, score=(train=0.956, test=1.000) total time=   0.0s\n",
      "[CV 9/20] END metric=manhattan, n_neighbors=3;, score=(train=0.956, test=1.000) total time=   0.0s\n",
      "[CV 10/20] END metric=manhattan, n_neighbors=3;, score=(train=0.956, test=1.000) total time=   0.0s\n",
      "[CV 11/20] END metric=manhattan, n_neighbors=3;, score=(train=0.956, test=1.000) total time=   0.0s\n",
      "[CV 12/20] END metric=manhattan, n_neighbors=3;, score=(train=0.956, test=1.000) total time=   0.0s\n",
      "[CV 13/20] END metric=manhattan, n_neighbors=3;, score=(train=0.956, test=1.000) total time=   0.0s\n",
      "[CV 14/20] END metric=manhattan, n_neighbors=3;, score=(train=0.965, test=0.833) total time=   0.0s\n",
      "[CV 15/20] END metric=manhattan, n_neighbors=3;, score=(train=0.956, test=1.000) total time=   0.0s\n",
      "[CV 16/20] END metric=manhattan, n_neighbors=3;, score=(train=0.956, test=1.000) total time=   0.0s\n",
      "[CV 17/20] END metric=manhattan, n_neighbors=3;, score=(train=0.956, test=1.000) total time=   0.0s\n",
      "[CV 18/20] END metric=manhattan, n_neighbors=3;, score=(train=0.956, test=1.000) total time=   0.0s\n",
      "[CV 19/20] END metric=manhattan, n_neighbors=3;, score=(train=0.974, test=0.833) total time=   0.0s\n",
      "[CV 20/20] END metric=manhattan, n_neighbors=3;, score=(train=0.974, test=0.833) total time=   0.0s\n",
      "[CV 1/20] END metric=chebyshev, n_neighbors=3;, score=(train=0.965, test=1.000) total time=   0.0s\n",
      "[CV 2/20] END metric=chebyshev, n_neighbors=3;, score=(train=0.965, test=1.000) total time=   0.0s\n",
      "[CV 3/20] END metric=chebyshev, n_neighbors=3;, score=(train=0.974, test=1.000) total time=   0.0s\n",
      "[CV 4/20] END metric=chebyshev, n_neighbors=3;, score=(train=0.974, test=1.000) total time=   0.0s\n",
      "[CV 5/20] END metric=chebyshev, n_neighbors=3;, score=(train=0.965, test=1.000) total time=   0.0s\n",
      "[CV 6/20] END metric=chebyshev, n_neighbors=3;, score=(train=0.982, test=0.833) total time=   0.0s\n",
      "[CV 7/20] END metric=chebyshev, n_neighbors=3;, score=(train=0.974, test=1.000) total time=   0.0s\n",
      "[CV 8/20] END metric=chebyshev, n_neighbors=3;, score=(train=0.974, test=1.000) total time=   0.0s\n",
      "[CV 9/20] END metric=chebyshev, n_neighbors=3;, score=(train=0.974, test=1.000) total time=   0.0s\n",
      "[CV 10/20] END metric=chebyshev, n_neighbors=3;, score=(train=0.965, test=1.000) total time=   0.0s\n",
      "[CV 11/20] END metric=chebyshev, n_neighbors=3;, score=(train=0.965, test=1.000) total time=   0.0s\n",
      "[CV 12/20] END metric=chebyshev, n_neighbors=3;, score=(train=0.974, test=1.000) total time=   0.0s\n",
      "[CV 13/20] END metric=chebyshev, n_neighbors=3;, score=(train=0.965, test=1.000) total time=   0.0s\n",
      "[CV 14/20] END metric=chebyshev, n_neighbors=3;, score=(train=0.965, test=0.833) total time=   0.0s\n",
      "[CV 15/20] END metric=chebyshev, n_neighbors=3;, score=(train=0.965, test=1.000) total time=   0.0s\n",
      "[CV 16/20] END metric=chebyshev, n_neighbors=3;, score=(train=0.956, test=1.000) total time=   0.0s\n",
      "[CV 17/20] END metric=chebyshev, n_neighbors=3;, score=(train=0.974, test=1.000) total time=   0.0s\n",
      "[CV 18/20] END metric=chebyshev, n_neighbors=3;, score=(train=0.965, test=1.000) total time=   0.0s\n",
      "[CV 19/20] END metric=chebyshev, n_neighbors=3;, score=(train=0.982, test=0.833) total time=   0.0s\n",
      "[CV 20/20] END metric=chebyshev, n_neighbors=3;, score=(train=0.982, test=0.833) total time=   0.0s\n",
      "[CV 1/20] END metric=cosine, n_neighbors=3;, score=(train=0.982, test=1.000) total time=   0.0s\n",
      "[CV 2/20] END metric=cosine, n_neighbors=3;, score=(train=0.982, test=1.000) total time=   0.0s\n",
      "[CV 3/20] END metric=cosine, n_neighbors=3;, score=(train=0.982, test=1.000) total time=   0.0s\n",
      "[CV 4/20] END metric=cosine, n_neighbors=3;, score=(train=0.982, test=1.000) total time=   0.0s\n"
     ]
    },
    {
     "name": "stdout",
     "output_type": "stream",
     "text": [
      "[CV 5/20] END metric=cosine, n_neighbors=3;, score=(train=0.982, test=1.000) total time=   0.0s\n",
      "[CV 6/20] END metric=cosine, n_neighbors=3;, score=(train=0.982, test=1.000) total time=   0.0s\n",
      "[CV 7/20] END metric=cosine, n_neighbors=3;, score=(train=0.982, test=1.000) total time=   0.0s\n",
      "[CV 8/20] END metric=cosine, n_neighbors=3;, score=(train=0.982, test=1.000) total time=   0.0s\n",
      "[CV 9/20] END metric=cosine, n_neighbors=3;, score=(train=0.982, test=1.000) total time=   0.0s\n",
      "[CV 10/20] END metric=cosine, n_neighbors=3;, score=(train=0.974, test=1.000) total time=   0.0s\n",
      "[CV 11/20] END metric=cosine, n_neighbors=3;, score=(train=0.982, test=1.000) total time=   0.0s\n",
      "[CV 12/20] END metric=cosine, n_neighbors=3;, score=(train=0.991, test=1.000) total time=   0.0s\n",
      "[CV 13/20] END metric=cosine, n_neighbors=3;, score=(train=0.982, test=0.833) total time=   0.0s\n",
      "[CV 14/20] END metric=cosine, n_neighbors=3;, score=(train=0.982, test=1.000) total time=   0.0s\n",
      "[CV 15/20] END metric=cosine, n_neighbors=3;, score=(train=0.982, test=1.000) total time=   0.0s\n",
      "[CV 16/20] END metric=cosine, n_neighbors=3;, score=(train=0.982, test=1.000) total time=   0.0s\n",
      "[CV 17/20] END metric=cosine, n_neighbors=3;, score=(train=0.982, test=1.000) total time=   0.0s\n",
      "[CV 18/20] END metric=cosine, n_neighbors=3;, score=(train=0.982, test=1.000) total time=   0.0s\n",
      "[CV 19/20] END metric=cosine, n_neighbors=3;, score=(train=0.991, test=0.833) total time=   0.0s\n",
      "[CV 20/20] END metric=cosine, n_neighbors=3;, score=(train=0.991, test=0.833) total time=   0.0s\n",
      "[CV 1/20] END metric=hamming, n_neighbors=3;, score=(train=0.877, test=0.833) total time=   0.0s\n",
      "[CV 2/20] END metric=hamming, n_neighbors=3;, score=(train=0.860, test=0.833) total time=   0.0s\n",
      "[CV 3/20] END metric=hamming, n_neighbors=3;, score=(train=0.895, test=0.667) total time=   0.0s\n",
      "[CV 4/20] END metric=hamming, n_neighbors=3;, score=(train=0.886, test=0.667) total time=   0.0s\n",
      "[CV 5/20] END metric=hamming, n_neighbors=3;, score=(train=0.877, test=0.833) total time=   0.0s\n",
      "[CV 6/20] END metric=hamming, n_neighbors=3;, score=(train=0.868, test=0.833) total time=   0.0s\n",
      "[CV 7/20] END metric=hamming, n_neighbors=3;, score=(train=0.877, test=0.667) total time=   0.0s\n",
      "[CV 8/20] END metric=hamming, n_neighbors=3;, score=(train=0.895, test=0.667) total time=   0.0s\n",
      "[CV 9/20] END metric=hamming, n_neighbors=3;, score=(train=0.860, test=0.667) total time=   0.0s\n",
      "[CV 10/20] END metric=hamming, n_neighbors=3;, score=(train=0.877, test=1.000) total time=   0.0s\n",
      "[CV 11/20] END metric=hamming, n_neighbors=3;, score=(train=0.886, test=0.500) total time=   0.0s\n",
      "[CV 12/20] END metric=hamming, n_neighbors=3;, score=(train=0.886, test=0.667) total time=   0.0s\n",
      "[CV 13/20] END metric=hamming, n_neighbors=3;, score=(train=0.877, test=0.667) total time=   0.0s\n",
      "[CV 14/20] END metric=hamming, n_neighbors=3;, score=(train=0.877, test=0.667) total time=   0.0s\n",
      "[CV 15/20] END metric=hamming, n_neighbors=3;, score=(train=0.868, test=0.833) total time=   0.0s\n",
      "[CV 16/20] END metric=hamming, n_neighbors=3;, score=(train=0.886, test=0.833) total time=   0.0s\n",
      "[CV 17/20] END metric=hamming, n_neighbors=3;, score=(train=0.886, test=0.667) total time=   0.0s\n",
      "[CV 18/20] END metric=hamming, n_neighbors=3;, score=(train=0.886, test=0.667) total time=   0.0s\n",
      "[CV 19/20] END metric=hamming, n_neighbors=3;, score=(train=0.877, test=0.667) total time=   0.0s\n",
      "[CV 20/20] END metric=hamming, n_neighbors=3;, score=(train=0.877, test=0.500) total time=   0.0s\n",
      "[CV 1/20] END metric=canberra, n_neighbors=3;, score=(train=0.965, test=0.833) total time=   0.0s\n",
      "[CV 2/20] END metric=canberra, n_neighbors=3;, score=(train=0.965, test=1.000) total time=   0.0s\n",
      "[CV 3/20] END metric=canberra, n_neighbors=3;, score=(train=0.965, test=1.000) total time=   0.0s\n",
      "[CV 4/20] END metric=canberra, n_neighbors=3;, score=(train=0.982, test=0.833) total time=   0.0s\n",
      "[CV 5/20] END metric=canberra, n_neighbors=3;, score=(train=0.965, test=1.000) total time=   0.0s\n",
      "[CV 6/20] END metric=canberra, n_neighbors=3;, score=(train=0.974, test=0.833) total time=   0.0s\n",
      "[CV 7/20] END metric=canberra, n_neighbors=3;, score=(train=0.965, test=1.000) total time=   0.0s\n",
      "[CV 8/20] END metric=canberra, n_neighbors=3;, score=(train=0.965, test=1.000) total time=   0.0s\n",
      "[CV 9/20] END metric=canberra, n_neighbors=3;, score=(train=0.956, test=1.000) total time=   0.0s\n",
      "[CV 10/20] END metric=canberra, n_neighbors=3;, score=(train=0.965, test=1.000) total time=   0.0s\n",
      "[CV 11/20] END metric=canberra, n_neighbors=3;, score=(train=0.965, test=1.000) total time=   0.0s\n",
      "[CV 12/20] END metric=canberra, n_neighbors=3;, score=(train=0.965, test=1.000) total time=   0.0s\n",
      "[CV 13/20] END metric=canberra, n_neighbors=3;, score=(train=0.965, test=1.000) total time=   0.0s\n",
      "[CV 14/20] END metric=canberra, n_neighbors=3;, score=(train=0.965, test=0.833) total time=   0.0s\n",
      "[CV 15/20] END metric=canberra, n_neighbors=3;, score=(train=0.965, test=1.000) total time=   0.0s\n",
      "[CV 16/20] END metric=canberra, n_neighbors=3;, score=(train=0.965, test=1.000) total time=   0.0s\n",
      "[CV 17/20] END metric=canberra, n_neighbors=3;, score=(train=0.965, test=1.000) total time=   0.0s\n",
      "[CV 18/20] END metric=canberra, n_neighbors=3;, score=(train=0.965, test=1.000) total time=   0.0s\n",
      "[CV 19/20] END metric=canberra, n_neighbors=3;, score=(train=0.974, test=0.833) total time=   0.0s\n",
      "[CV 20/20] END metric=canberra, n_neighbors=3;, score=(train=0.974, test=0.833) total time=   0.0s\n",
      "[CV 1/20] END metric=braycurtis, n_neighbors=3;, score=(train=0.956, test=1.000) total time=   0.0s\n",
      "[CV 2/20] END metric=braycurtis, n_neighbors=3;, score=(train=0.956, test=1.000) total time=   0.0s\n",
      "[CV 3/20] END metric=braycurtis, n_neighbors=3;, score=(train=0.956, test=1.000) total time=   0.0s\n",
      "[CV 4/20] END metric=braycurtis, n_neighbors=3;, score=(train=0.965, test=0.833) total time=   0.0s\n",
      "[CV 5/20] END metric=braycurtis, n_neighbors=3;, score=(train=0.956, test=1.000) total time=   0.0s\n",
      "[CV 6/20] END metric=braycurtis, n_neighbors=3;, score=(train=0.965, test=0.833) total time=   0.0s\n",
      "[CV 7/20] END metric=braycurtis, n_neighbors=3;, score=(train=0.956, test=1.000) total time=   0.0s\n",
      "[CV 8/20] END metric=braycurtis, n_neighbors=3;, score=(train=0.956, test=1.000) total time=   0.0s\n",
      "[CV 9/20] END metric=braycurtis, n_neighbors=3;, score=(train=0.956, test=1.000) total time=   0.0s\n",
      "[CV 10/20] END metric=braycurtis, n_neighbors=3;, score=(train=0.956, test=1.000) total time=   0.0s\n",
      "[CV 11/20] END metric=braycurtis, n_neighbors=3;, score=(train=0.956, test=1.000) total time=   0.0s\n",
      "[CV 12/20] END metric=braycurtis, n_neighbors=3;, score=(train=0.956, test=1.000) total time=   0.0s\n",
      "[CV 13/20] END metric=braycurtis, n_neighbors=3;, score=(train=0.956, test=1.000) total time=   0.0s\n",
      "[CV 14/20] END metric=braycurtis, n_neighbors=3;, score=(train=0.965, test=0.833) total time=   0.0s\n",
      "[CV 15/20] END metric=braycurtis, n_neighbors=3;, score=(train=0.956, test=1.000) total time=   0.0s\n",
      "[CV 16/20] END metric=braycurtis, n_neighbors=3;, score=(train=0.956, test=1.000) total time=   0.0s\n",
      "[CV 17/20] END metric=braycurtis, n_neighbors=3;, score=(train=0.956, test=1.000) total time=   0.0s\n",
      "[CV 18/20] END metric=braycurtis, n_neighbors=3;, score=(train=0.956, test=1.000) total time=   0.0s\n",
      "[CV 19/20] END metric=braycurtis, n_neighbors=3;, score=(train=0.974, test=0.833) total time=   0.0s\n",
      "[CV 20/20] END metric=braycurtis, n_neighbors=3;, score=(train=0.974, test=0.833) total time=   0.0s\n",
      "Fitting 20 folds for each of 8 candidates, totalling 160 fits\n",
      "[CV 1/20] END metric=minkowski;, score=(train=0.947, test=1.000) total time=   0.0s\n",
      "[CV 2/20] END metric=minkowski;, score=(train=0.939, test=1.000) total time=   0.0s\n",
      "[CV 3/20] END metric=minkowski;, score=(train=0.939, test=1.000) total time=   0.0s\n",
      "[CV 4/20] END metric=minkowski;, score=(train=0.947, test=0.833) total time=   0.0s\n",
      "[CV 5/20] END metric=minkowski;, score=(train=0.947, test=1.000) total time=   0.0s\n",
      "[CV 6/20] END metric=minkowski;, score=(train=0.947, test=0.833) total time=   0.0s\n",
      "[CV 7/20] END metric=minkowski;, score=(train=0.947, test=1.000) total time=   0.0s\n",
      "[CV 8/20] END metric=minkowski;, score=(train=0.939, test=0.833) total time=   0.0s\n",
      "[CV 9/20] END metric=minkowski;, score=(train=0.939, test=0.833) total time=   0.0s\n",
      "[CV 10/20] END metric=minkowski;, score=(train=0.939, test=1.000) total time=   0.0s\n",
      "[CV 11/20] END metric=minkowski;, score=(train=0.947, test=0.833) total time=   0.0s\n",
      "[CV 12/20] END metric=minkowski;, score=(train=0.939, test=1.000) total time=   0.0s\n",
      "[CV 13/20] END metric=minkowski;, score=(train=0.939, test=1.000) total time=   0.0s\n",
      "[CV 14/20] END metric=minkowski;, score=(train=0.947, test=0.833) total time=   0.0s\n",
      "[CV 15/20] END metric=minkowski;, score=(train=0.939, test=1.000) total time=   0.0s\n",
      "[CV 16/20] END metric=minkowski;, score=(train=0.939, test=1.000) total time=   0.0s\n",
      "[CV 17/20] END metric=minkowski;, score=(train=0.947, test=1.000) total time=   0.0s\n",
      "[CV 18/20] END metric=minkowski;, score=(train=0.939, test=1.000) total time=   0.0s\n",
      "[CV 19/20] END metric=minkowski;, score=(train=0.956, test=0.833) total time=   0.0s\n",
      "[CV 20/20] END metric=minkowski;, score=(train=0.956, test=0.833) total time=   0.0s\n",
      "[CV 1/20] END metric=euclidean;, score=(train=0.947, test=1.000) total time=   0.0s\n",
      "[CV 2/20] END metric=euclidean;, score=(train=0.939, test=1.000) total time=   0.0s\n",
      "[CV 3/20] END metric=euclidean;, score=(train=0.939, test=1.000) total time=   0.0s\n",
      "[CV 4/20] END metric=euclidean;, score=(train=0.947, test=0.833) total time=   0.0s\n",
      "[CV 5/20] END metric=euclidean;, score=(train=0.947, test=1.000) total time=   0.0s\n",
      "[CV 6/20] END metric=euclidean;, score=(train=0.947, test=0.833) total time=   0.0s\n",
      "[CV 7/20] END metric=euclidean;, score=(train=0.947, test=1.000) total time=   0.0s\n",
      "[CV 8/20] END metric=euclidean;, score=(train=0.939, test=0.833) total time=   0.0s\n",
      "[CV 9/20] END metric=euclidean;, score=(train=0.939, test=0.833) total time=   0.0s\n",
      "[CV 10/20] END metric=euclidean;, score=(train=0.939, test=1.000) total time=   0.0s\n",
      "[CV 11/20] END metric=euclidean;, score=(train=0.947, test=0.833) total time=   0.0s\n",
      "[CV 12/20] END metric=euclidean;, score=(train=0.939, test=1.000) total time=   0.0s\n",
      "[CV 13/20] END metric=euclidean;, score=(train=0.939, test=1.000) total time=   0.0s\n",
      "[CV 14/20] END metric=euclidean;, score=(train=0.947, test=0.833) total time=   0.0s\n",
      "[CV 15/20] END metric=euclidean;, score=(train=0.939, test=1.000) total time=   0.0s\n",
      "[CV 16/20] END metric=euclidean;, score=(train=0.939, test=1.000) total time=   0.0s\n",
      "[CV 17/20] END metric=euclidean;, score=(train=0.947, test=1.000) total time=   0.0s\n",
      "[CV 18/20] END metric=euclidean;, score=(train=0.939, test=1.000) total time=   0.0s\n",
      "[CV 19/20] END metric=euclidean;, score=(train=0.956, test=0.833) total time=   0.0s\n",
      "[CV 20/20] END metric=euclidean;, score=(train=0.956, test=0.833) total time=   0.0s\n",
      "[CV 1/20] END metric=manhattan;, score=(train=0.939, test=1.000) total time=   0.0s\n",
      "[CV 2/20] END metric=manhattan;, score=(train=0.930, test=1.000) total time=   0.0s\n",
      "[CV 3/20] END metric=manhattan;, score=(train=0.939, test=1.000) total time=   0.0s\n",
      "[CV 4/20] END metric=manhattan;, score=(train=0.956, test=0.833) total time=   0.0s\n",
      "[CV 5/20] END metric=manhattan;, score=(train=0.939, test=1.000) total time=   0.0s\n",
      "[CV 6/20] END metric=manhattan;, score=(train=0.947, test=0.833) total time=   0.0s\n",
      "[CV 7/20] END metric=manhattan;, score=(train=0.939, test=1.000) total time=   0.0s\n",
      "[CV 8/20] END metric=manhattan;, score=(train=0.939, test=0.833) total time=   0.0s\n",
      "[CV 9/20] END metric=manhattan;, score=(train=0.947, test=0.667) total time=   0.0s\n",
      "[CV 10/20] END metric=manhattan;, score=(train=0.939, test=1.000) total time=   0.0s\n",
      "[CV 11/20] END metric=manhattan;, score=(train=0.947, test=0.833) total time=   0.0s\n",
      "[CV 12/20] END metric=manhattan;, score=(train=0.939, test=1.000) total time=   0.0s\n",
      "[CV 13/20] END metric=manhattan;, score=(train=0.939, test=1.000) total time=   0.0s\n",
      "[CV 14/20] END metric=manhattan;, score=(train=0.956, test=0.833) total time=   0.0s\n",
      "[CV 15/20] END metric=manhattan;, score=(train=0.939, test=1.000) total time=   0.0s\n",
      "[CV 16/20] END metric=manhattan;, score=(train=0.939, test=1.000) total time=   0.0s\n",
      "[CV 17/20] END metric=manhattan;, score=(train=0.939, test=1.000) total time=   0.0s\n",
      "[CV 18/20] END metric=manhattan;, score=(train=0.939, test=1.000) total time=   0.0s\n",
      "[CV 19/20] END metric=manhattan;, score=(train=0.939, test=0.833) total time=   0.0s\n",
      "[CV 20/20] END metric=manhattan;, score=(train=0.947, test=0.833) total time=   0.0s\n",
      "[CV 1/20] END metric=chebyshev;, score=(train=0.930, test=1.000) total time=   0.0s\n",
      "[CV 2/20] END metric=chebyshev;, score=(train=0.930, test=1.000) total time=   0.0s\n",
      "[CV 3/20] END metric=chebyshev;, score=(train=0.930, test=1.000) total time=   0.0s\n",
      "[CV 4/20] END metric=chebyshev;, score=(train=0.921, test=1.000) total time=   0.0s\n",
      "[CV 5/20] END metric=chebyshev;, score=(train=0.921, test=1.000) total time=   0.0s\n",
      "[CV 6/20] END metric=chebyshev;, score=(train=0.939, test=0.833) total time=   0.0s\n",
      "[CV 7/20] END metric=chebyshev;, score=(train=0.939, test=0.833) total time=   0.0s\n",
      "[CV 8/20] END metric=chebyshev;, score=(train=0.947, test=0.667) total time=   0.0s\n",
      "[CV 9/20] END metric=chebyshev;, score=(train=0.939, test=0.833) total time=   0.0s\n",
      "[CV 10/20] END metric=chebyshev;, score=(train=0.947, test=1.000) total time=   0.0s\n",
      "[CV 11/20] END metric=chebyshev;, score=(train=0.930, test=1.000) total time=   0.0s\n",
      "[CV 12/20] END metric=chebyshev;, score=(train=0.930, test=1.000) total time=   0.0s\n",
      "[CV 13/20] END metric=chebyshev;, score=(train=0.947, test=1.000) total time=   0.0s\n",
      "[CV 14/20] END metric=chebyshev;, score=(train=0.930, test=0.833) total time=   0.0s\n",
      "[CV 15/20] END metric=chebyshev;, score=(train=0.947, test=1.000) total time=   0.0s\n",
      "[CV 16/20] END metric=chebyshev;, score=(train=0.930, test=1.000) total time=   0.0s\n",
      "[CV 17/20] END metric=chebyshev;, score=(train=0.930, test=1.000) total time=   0.0s\n",
      "[CV 18/20] END metric=chebyshev;, score=(train=0.930, test=1.000) total time=   0.0s\n",
      "[CV 19/20] END metric=chebyshev;, score=(train=0.939, test=0.833) total time=   0.0s\n",
      "[CV 20/20] END metric=chebyshev;, score=(train=0.939, test=0.833) total time=   0.0s\n",
      "[CV 1/20] END metric=cosine;, score=(train=0.974, test=1.000) total time=   0.0s\n",
      "[CV 2/20] END metric=cosine;, score=(train=0.974, test=1.000) total time=   0.0s\n",
      "[CV 3/20] END metric=cosine;, score=(train=0.974, test=1.000) total time=   0.0s\n",
      "[CV 4/20] END metric=cosine;, score=(train=0.974, test=1.000) total time=   0.0s\n",
      "[CV 5/20] END metric=cosine;, score=(train=0.974, test=1.000) total time=   0.0s\n",
      "[CV 6/20] END metric=cosine;, score=(train=0.974, test=1.000) total time=   0.0s\n",
      "[CV 7/20] END metric=cosine;, score=(train=0.974, test=1.000) total time=   0.0s\n",
      "[CV 8/20] END metric=cosine;, score=(train=0.974, test=1.000) total time=   0.0s\n",
      "[CV 9/20] END metric=cosine;, score=(train=0.974, test=1.000) total time=   0.0s\n",
      "[CV 10/20] END metric=cosine;, score=(train=0.974, test=1.000) total time=   0.0s\n",
      "[CV 11/20] END metric=cosine;, score=(train=0.974, test=1.000) total time=   0.0s\n",
      "[CV 12/20] END metric=cosine;, score=(train=0.974, test=1.000) total time=   0.0s\n",
      "[CV 13/20] END metric=cosine;, score=(train=0.974, test=0.833) total time=   0.0s\n",
      "[CV 14/20] END metric=cosine;, score=(train=0.974, test=1.000) total time=   0.0s\n",
      "[CV 15/20] END metric=cosine;, score=(train=0.974, test=1.000) total time=   0.0s\n",
      "[CV 16/20] END metric=cosine;, score=(train=0.974, test=1.000) total time=   0.0s\n",
      "[CV 17/20] END metric=cosine;, score=(train=0.974, test=1.000) total time=   0.0s\n",
      "[CV 18/20] END metric=cosine;, score=(train=0.974, test=1.000) total time=   0.0s\n",
      "[CV 19/20] END metric=cosine;, score=(train=0.982, test=0.833) total time=   0.0s\n",
      "[CV 20/20] END metric=cosine;, score=(train=0.982, test=0.833) total time=   0.0s\n",
      "[CV 1/20] END metric=hamming;, score=(train=0.342, test=0.500) total time=   0.0s\n",
      "[CV 2/20] END metric=hamming;, score=(train=0.342, test=0.500) total time=   0.0s\n",
      "[CV 3/20] END metric=hamming;, score=(train=0.351, test=0.333) total time=   0.0s\n",
      "[CV 4/20] END metric=hamming;, score=(train=0.351, test=0.333) total time=   0.0s\n",
      "[CV 5/20] END metric=hamming;, score=(train=0.351, test=0.333) total time=   0.0s\n",
      "[CV 6/20] END metric=hamming;, score=(train=0.351, test=0.333) total time=   0.0s\n",
      "[CV 7/20] END metric=hamming;, score=(train=0.351, test=0.333) total time=   0.0s\n",
      "[CV 8/20] END metric=hamming;, score=(train=0.368, test=0.333) total time=   0.0s\n",
      "[CV 9/20] END metric=hamming;, score=(train=0.351, test=0.333) total time=   0.0s\n",
      "[CV 10/20] END metric=hamming;, score=(train=0.351, test=0.333) total time=   0.0s\n",
      "[CV 11/20] END metric=hamming;, score=(train=0.351, test=0.333) total time=   0.0s\n",
      "[CV 12/20] END metric=hamming;, score=(train=0.351, test=0.333) total time=   0.0s\n",
      "[CV 13/20] END metric=hamming;, score=(train=0.351, test=0.333) total time=   0.0s\n",
      "[CV 14/20] END metric=hamming;, score=(train=0.351, test=0.333) total time=   0.0s\n",
      "[CV 15/20] END metric=hamming;, score=(train=0.351, test=0.333) total time=   0.0s\n",
      "[CV 16/20] END metric=hamming;, score=(train=0.351, test=0.333) total time=   0.0s\n",
      "[CV 17/20] END metric=hamming;, score=(train=0.351, test=0.333) total time=   0.0s\n",
      "[CV 18/20] END metric=hamming;, score=(train=0.351, test=0.333) total time=   0.0s\n",
      "[CV 19/20] END metric=hamming;, score=(train=0.351, test=0.333) total time=   0.0s\n",
      "[CV 20/20] END metric=hamming;, score=(train=0.351, test=0.333) total time=   0.0s\n",
      "[CV 1/20] END metric=canberra;, score=(train=0.956, test=0.833) total time=   0.0s\n",
      "[CV 2/20] END metric=canberra;, score=(train=0.947, test=1.000) total time=   0.0s\n",
      "[CV 3/20] END metric=canberra;, score=(train=0.939, test=1.000) total time=   0.0s\n",
      "[CV 4/20] END metric=canberra;, score=(train=0.956, test=0.833) total time=   0.0s\n",
      "[CV 5/20] END metric=canberra;, score=(train=0.939, test=1.000) total time=   0.0s\n",
      "[CV 6/20] END metric=canberra;, score=(train=0.947, test=0.833) total time=   0.0s\n",
      "[CV 7/20] END metric=canberra;, score=(train=0.947, test=1.000) total time=   0.0s\n",
      "[CV 8/20] END metric=canberra;, score=(train=0.947, test=1.000) total time=   0.0s\n",
      "[CV 9/20] END metric=canberra;, score=(train=0.947, test=0.833) total time=   0.0s\n",
      "[CV 10/20] END metric=canberra;, score=(train=0.939, test=1.000) total time=   0.0s\n",
      "[CV 11/20] END metric=canberra;, score=(train=0.947, test=0.833) total time=   0.0s\n",
      "[CV 12/20] END metric=canberra;, score=(train=0.939, test=1.000) total time=   0.0s\n",
      "[CV 13/20] END metric=canberra;, score=(train=0.939, test=1.000) total time=   0.0s\n",
      "[CV 14/20] END metric=canberra;, score=(train=0.956, test=0.833) total time=   0.0s\n",
      "[CV 15/20] END metric=canberra;, score=(train=0.939, test=1.000) total time=   0.0s\n"
     ]
    },
    {
     "name": "stdout",
     "output_type": "stream",
     "text": [
      "[CV 16/20] END metric=canberra;, score=(train=0.939, test=1.000) total time=   0.0s\n",
      "[CV 17/20] END metric=canberra;, score=(train=0.939, test=1.000) total time=   0.0s\n",
      "[CV 18/20] END metric=canberra;, score=(train=0.939, test=1.000) total time=   0.0s\n",
      "[CV 19/20] END metric=canberra;, score=(train=0.947, test=0.833) total time=   0.0s\n",
      "[CV 20/20] END metric=canberra;, score=(train=0.939, test=1.000) total time=   0.0s\n",
      "[CV 1/20] END metric=braycurtis;, score=(train=0.939, test=1.000) total time=   0.0s\n",
      "[CV 2/20] END metric=braycurtis;, score=(train=0.939, test=1.000) total time=   0.0s\n",
      "[CV 3/20] END metric=braycurtis;, score=(train=0.939, test=1.000) total time=   0.0s\n",
      "[CV 4/20] END metric=braycurtis;, score=(train=0.965, test=0.833) total time=   0.0s\n",
      "[CV 5/20] END metric=braycurtis;, score=(train=0.939, test=1.000) total time=   0.0s\n",
      "[CV 6/20] END metric=braycurtis;, score=(train=0.939, test=0.833) total time=   0.0s\n",
      "[CV 7/20] END metric=braycurtis;, score=(train=0.939, test=1.000) total time=   0.0s\n",
      "[CV 8/20] END metric=braycurtis;, score=(train=0.939, test=1.000) total time=   0.0s\n",
      "[CV 9/20] END metric=braycurtis;, score=(train=0.939, test=0.833) total time=   0.0s\n",
      "[CV 10/20] END metric=braycurtis;, score=(train=0.930, test=1.000) total time=   0.0s\n",
      "[CV 11/20] END metric=braycurtis;, score=(train=0.947, test=0.833) total time=   0.0s\n",
      "[CV 12/20] END metric=braycurtis;, score=(train=0.939, test=1.000) total time=   0.0s\n",
      "[CV 13/20] END metric=braycurtis;, score=(train=0.939, test=1.000) total time=   0.0s\n",
      "[CV 14/20] END metric=braycurtis;, score=(train=0.965, test=0.833) total time=   0.0s\n",
      "[CV 15/20] END metric=braycurtis;, score=(train=0.930, test=1.000) total time=   0.0s\n",
      "[CV 16/20] END metric=braycurtis;, score=(train=0.939, test=0.833) total time=   0.0s\n",
      "[CV 17/20] END metric=braycurtis;, score=(train=0.939, test=1.000) total time=   0.0s\n",
      "[CV 18/20] END metric=braycurtis;, score=(train=0.939, test=1.000) total time=   0.0s\n",
      "[CV 19/20] END metric=braycurtis;, score=(train=0.947, test=0.833) total time=   0.0s\n",
      "[CV 20/20] END metric=braycurtis;, score=(train=0.947, test=0.833) total time=   0.0s\n"
     ]
    }
   ],
   "source": [
    "from sklearn.model_selection import GridSearchCV\n",
    "scores = []\n",
    "\n",
    "for model_name, mp in model_params.items():\n",
    "    clf = GridSearchCV(mp['model'], mp['params'], cv=20, return_train_score=True, verbose=3)\n",
    "    clf.fit(X_train, y_train)\n",
    "    scores.append({\n",
    "        'model': model_name,\n",
    "        'best_score': clf.best_score_,\n",
    "        'best_params': clf.best_params_\n",
    "    })\n",
    "    \n",
    "df_score = pd.DataFrame(scores,columns=['model','best_score','best_params'])"
   ]
  },
  {
   "cell_type": "code",
   "execution_count": 26,
   "metadata": {
    "pycharm": {
     "name": "#%%\n"
    }
   },
   "outputs": [
    {
     "name": "stdout",
     "output_type": "stream",
     "text": [
      "  model  best_score                                best_params\n",
      "0  1KNN    0.958333  {'metric': 'minkowski', 'n_neighbors': 1}\n",
      "1  3KNN    0.975000     {'metric': 'cosine', 'n_neighbors': 3}\n",
      "2    NC    0.975000                       {'metric': 'cosine'}\n"
     ]
    }
   ],
   "source": [
    "df_score = pd.DataFrame(scores,columns=['model','best_score','best_params'])\n",
    "print(df_score)"
   ]
  }
 ],
 "metadata": {
  "kernelspec": {
   "display_name": "Python 3 (ipykernel)",
   "language": "python",
   "name": "python3"
  },
  "language_info": {
   "codemirror_mode": {
    "name": "ipython",
    "version": 3
   },
   "file_extension": ".py",
   "mimetype": "text/x-python",
   "name": "python",
   "nbconvert_exporter": "python",
   "pygments_lexer": "ipython3",
   "version": "3.9.12"
  }
 },
 "nbformat": 4,
 "nbformat_minor": 1
}