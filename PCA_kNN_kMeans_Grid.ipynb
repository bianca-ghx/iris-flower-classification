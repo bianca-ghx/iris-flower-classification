{
 "cells": [
  {
   "cell_type": "markdown",
   "metadata": {
    "pycharm": {
     "name": "#%% md\n"
    }
   },
   "source": [
    "## Import libraries"
   ]
  },
  {
   "cell_type": "code",
   "execution_count": 1,
   "metadata": {
    "pycharm": {
     "name": "#%%\n"
    }
   },
   "outputs": [
    {
     "name": "stdout",
     "output_type": "stream",
     "text": [
      "Once deleted, variables cannot be recovered. Proceed (y/[n])? y\n"
     ]
    }
   ],
   "source": [
    "%reset"
   ]
  },
  {
   "cell_type": "code",
   "execution_count": 2,
   "metadata": {
    "pycharm": {
     "name": "#%%\n"
    }
   },
   "outputs": [],
   "source": [
    "import matplotlib.pyplot as plt\n",
    "plt.rcParams.update(plt.rcParamsDefault)\n",
    "import numpy as np\n",
    "import pandas as pd\n",
    "import warnings\n",
    "warnings.filterwarnings('ignore')"
   ]
  },
  {
   "cell_type": "markdown",
   "metadata": {
    "pycharm": {
     "name": "#%% md\n"
    }
   },
   "source": [
    "---"
   ]
  },
  {
   "cell_type": "markdown",
   "metadata": {
    "pycharm": {
     "name": "#%% md\n"
    }
   },
   "source": [
    "## Load Iris Dataset"
   ]
  },
  {
   "cell_type": "code",
   "execution_count": 3,
   "metadata": {
    "pycharm": {
     "name": "#%%\n"
    }
   },
   "outputs": [],
   "source": [
    "from sklearn import datasets\n",
    "iris = datasets.load_iris()"
   ]
  },
  {
   "cell_type": "code",
   "execution_count": 4,
   "metadata": {
    "pycharm": {
     "name": "#%%\n"
    }
   },
   "outputs": [],
   "source": [
    "X = iris.data\n",
    "y = iris.target"
   ]
  },
  {
   "cell_type": "markdown",
   "metadata": {
    "pycharm": {
     "name": "#%% md\n"
    }
   },
   "source": [
    "---"
   ]
  },
  {
   "cell_type": "markdown",
   "metadata": {
    "pycharm": {
     "name": "#%% md\n"
    }
   },
   "source": [
    "## Split into training and test dataset"
   ]
  },
  {
   "cell_type": "code",
   "execution_count": 5,
   "metadata": {
    "pycharm": {
     "name": "#%%\n"
    }
   },
   "outputs": [],
   "source": [
    "from sklearn.model_selection import train_test_split\n",
    "X_train, X_test, y_train, y_test = train_test_split(X, y, test_size=0.2)"
   ]
  },
  {
   "cell_type": "markdown",
   "metadata": {
    "pycharm": {
     "name": "#%% md\n"
    }
   },
   "source": [
    "---"
   ]
  },
  {
   "cell_type": "markdown",
   "metadata": {
    "pycharm": {
     "name": "#%% md\n"
    }
   },
   "source": [
    "## PCA"
   ]
  },
  {
   "cell_type": "code",
   "execution_count": 6,
   "metadata": {
    "pycharm": {
     "name": "#%%\n"
    }
   },
   "outputs": [],
   "source": [
    "n_components=4"
   ]
  },
  {
   "cell_type": "code",
   "execution_count": 7,
   "metadata": {
    "pycharm": {
     "name": "#%%\n"
    }
   },
   "outputs": [],
   "source": [
    "from sklearn.decomposition import PCA\n",
    "pca = PCA(n_components=n_components)\n",
    "X_pca_train = pca.fit_transform(X_train)\n",
    "X_pca_test = pca.transform(X_test)\n",
    "y_pca_train = y_train\n",
    "y_pca_test = y_test"
   ]
  },
  {
   "cell_type": "markdown",
   "metadata": {
    "pycharm": {
     "name": "#%% md\n"
    }
   },
   "source": [
    "## GridSearch"
   ]
  },
  {
   "cell_type": "code",
   "execution_count": 8,
   "metadata": {
    "pycharm": {
     "name": "#%%\n"
    }
   },
   "outputs": [],
   "source": [
    "from sklearn.neighbors import KNeighborsClassifier\n",
    "from sklearn.neighbors import NearestCentroid\n",
    "\n",
    "model_params = {\n",
    "    '1KNN' : {\n",
    "        'model': KNeighborsClassifier(),\n",
    "        'params': {\n",
    "            'n_neighbors': [1],\n",
    "            'metric': [\"minkowski\", \"euclidean\", \"manhattan\", \"chebyshev\", \"cosine\", \"hamming\", \"canberra\", \"braycurtis\"]\n",
    "        }\n",
    "    },\n",
    "    '3KNN' : {\n",
    "        'model': KNeighborsClassifier(),\n",
    "        'params': {\n",
    "            'n_neighbors': [3],\n",
    "            'metric': [\"minkowski\", \"euclidean\", \"manhattan\", \"chebyshev\", \"cosine\", \"hamming\", \"canberra\", \"braycurtis\"]\n",
    "        }\n",
    "    }, \n",
    "    'NC' : {\n",
    "        'model': NearestCentroid(),\n",
    "        'params': {\n",
    "            'metric': [\"minkowski\", \"euclidean\", \"manhattan\", \"chebyshev\", \"cosine\", \"hamming\", \"canberra\", \"braycurtis\"]\n",
    "        }\n",
    "    }\n",
    "    \n",
    "}"
   ]
  },
  {
   "cell_type": "code",
   "execution_count": 9,
   "metadata": {
    "scrolled": true,
    "pycharm": {
     "name": "#%%\n"
    }
   },
   "outputs": [
    {
     "name": "stdout",
     "output_type": "stream",
     "text": [
      "Fitting 20 folds for each of 8 candidates, totalling 160 fits\n",
      "[CV 1/20] END metric=minkowski, n_neighbors=1;, score=(train=1.000, test=0.833) total time=   0.0s\n",
      "[CV 2/20] END metric=minkowski, n_neighbors=1;, score=(train=1.000, test=1.000) total time=   0.0s\n",
      "[CV 3/20] END metric=minkowski, n_neighbors=1;, score=(train=1.000, test=0.833) total time=   0.0s\n",
      "[CV 4/20] END metric=minkowski, n_neighbors=1;, score=(train=1.000, test=1.000) total time=   0.0s\n",
      "[CV 5/20] END metric=minkowski, n_neighbors=1;, score=(train=1.000, test=1.000) total time=   0.0s\n",
      "[CV 6/20] END metric=minkowski, n_neighbors=1;, score=(train=1.000, test=0.833) total time=   0.0s\n",
      "[CV 7/20] END metric=minkowski, n_neighbors=1;, score=(train=1.000, test=1.000) total time=   0.0s\n",
      "[CV 8/20] END metric=minkowski, n_neighbors=1;, score=(train=1.000, test=1.000) total time=   0.0s\n",
      "[CV 9/20] END metric=minkowski, n_neighbors=1;, score=(train=1.000, test=1.000) total time=   0.0s\n",
      "[CV 10/20] END metric=minkowski, n_neighbors=1;, score=(train=1.000, test=1.000) total time=   0.0s\n",
      "[CV 11/20] END metric=minkowski, n_neighbors=1;, score=(train=1.000, test=0.833) total time=   0.0s\n",
      "[CV 12/20] END metric=minkowski, n_neighbors=1;, score=(train=1.000, test=1.000) total time=   0.0s\n",
      "[CV 13/20] END metric=minkowski, n_neighbors=1;, score=(train=1.000, test=1.000) total time=   0.0s\n",
      "[CV 14/20] END metric=minkowski, n_neighbors=1;, score=(train=1.000, test=1.000) total time=   0.0s\n",
      "[CV 15/20] END metric=minkowski, n_neighbors=1;, score=(train=1.000, test=1.000) total time=   0.0s\n",
      "[CV 16/20] END metric=minkowski, n_neighbors=1;, score=(train=1.000, test=1.000) total time=   0.0s\n",
      "[CV 17/20] END metric=minkowski, n_neighbors=1;, score=(train=1.000, test=1.000) total time=   0.0s\n",
      "[CV 18/20] END metric=minkowski, n_neighbors=1;, score=(train=1.000, test=0.833) total time=   0.0s\n",
      "[CV 19/20] END metric=minkowski, n_neighbors=1;, score=(train=1.000, test=1.000) total time=   0.0s\n",
      "[CV 20/20] END metric=minkowski, n_neighbors=1;, score=(train=1.000, test=1.000) total time=   0.0s\n",
      "[CV 1/20] END metric=euclidean, n_neighbors=1;, score=(train=1.000, test=0.833) total time=   0.0s\n",
      "[CV 2/20] END metric=euclidean, n_neighbors=1;, score=(train=1.000, test=1.000) total time=   0.0s\n",
      "[CV 3/20] END metric=euclidean, n_neighbors=1;, score=(train=1.000, test=0.833) total time=   0.0s\n",
      "[CV 4/20] END metric=euclidean, n_neighbors=1;, score=(train=1.000, test=1.000) total time=   0.0s\n",
      "[CV 5/20] END metric=euclidean, n_neighbors=1;, score=(train=1.000, test=1.000) total time=   0.0s\n",
      "[CV 6/20] END metric=euclidean, n_neighbors=1;, score=(train=1.000, test=0.833) total time=   0.0s\n",
      "[CV 7/20] END metric=euclidean, n_neighbors=1;, score=(train=1.000, test=1.000) total time=   0.0s\n",
      "[CV 8/20] END metric=euclidean, n_neighbors=1;, score=(train=1.000, test=1.000) total time=   0.0s\n",
      "[CV 9/20] END metric=euclidean, n_neighbors=1;, score=(train=1.000, test=1.000) total time=   0.0s\n",
      "[CV 10/20] END metric=euclidean, n_neighbors=1;, score=(train=1.000, test=1.000) total time=   0.0s\n",
      "[CV 11/20] END metric=euclidean, n_neighbors=1;, score=(train=1.000, test=0.833) total time=   0.0s\n",
      "[CV 12/20] END metric=euclidean, n_neighbors=1;, score=(train=1.000, test=1.000) total time=   0.0s\n",
      "[CV 13/20] END metric=euclidean, n_neighbors=1;, score=(train=1.000, test=1.000) total time=   0.0s\n",
      "[CV 14/20] END metric=euclidean, n_neighbors=1;, score=(train=1.000, test=1.000) total time=   0.0s\n",
      "[CV 15/20] END metric=euclidean, n_neighbors=1;, score=(train=1.000, test=1.000) total time=   0.0s\n",
      "[CV 16/20] END metric=euclidean, n_neighbors=1;, score=(train=1.000, test=1.000) total time=   0.0s\n",
      "[CV 17/20] END metric=euclidean, n_neighbors=1;, score=(train=1.000, test=1.000) total time=   0.0s\n",
      "[CV 18/20] END metric=euclidean, n_neighbors=1;, score=(train=1.000, test=0.833) total time=   0.0s\n",
      "[CV 19/20] END metric=euclidean, n_neighbors=1;, score=(train=1.000, test=1.000) total time=   0.0s\n",
      "[CV 20/20] END metric=euclidean, n_neighbors=1;, score=(train=1.000, test=1.000) total time=   0.0s\n",
      "[CV 1/20] END metric=manhattan, n_neighbors=1;, score=(train=1.000, test=0.833) total time=   0.0s\n",
      "[CV 2/20] END metric=manhattan, n_neighbors=1;, score=(train=1.000, test=1.000) total time=   0.0s\n",
      "[CV 3/20] END metric=manhattan, n_neighbors=1;, score=(train=1.000, test=0.833) total time=   0.0s\n",
      "[CV 4/20] END metric=manhattan, n_neighbors=1;, score=(train=1.000, test=1.000) total time=   0.0s\n",
      "[CV 5/20] END metric=manhattan, n_neighbors=1;, score=(train=1.000, test=1.000) total time=   0.0s\n",
      "[CV 6/20] END metric=manhattan, n_neighbors=1;, score=(train=1.000, test=0.833) total time=   0.0s\n",
      "[CV 7/20] END metric=manhattan, n_neighbors=1;, score=(train=1.000, test=1.000) total time=   0.0s\n",
      "[CV 8/20] END metric=manhattan, n_neighbors=1;, score=(train=1.000, test=1.000) total time=   0.0s\n",
      "[CV 9/20] END metric=manhattan, n_neighbors=1;, score=(train=1.000, test=1.000) total time=   0.0s\n",
      "[CV 10/20] END metric=manhattan, n_neighbors=1;, score=(train=1.000, test=1.000) total time=   0.0s\n",
      "[CV 11/20] END metric=manhattan, n_neighbors=1;, score=(train=1.000, test=0.833) total time=   0.0s\n",
      "[CV 12/20] END metric=manhattan, n_neighbors=1;, score=(train=1.000, test=1.000) total time=   0.0s\n",
      "[CV 13/20] END metric=manhattan, n_neighbors=1;, score=(train=1.000, test=1.000) total time=   0.0s\n",
      "[CV 14/20] END metric=manhattan, n_neighbors=1;, score=(train=1.000, test=1.000) total time=   0.0s\n",
      "[CV 15/20] END metric=manhattan, n_neighbors=1;, score=(train=1.000, test=1.000) total time=   0.0s\n",
      "[CV 16/20] END metric=manhattan, n_neighbors=1;, score=(train=1.000, test=1.000) total time=   0.0s\n",
      "[CV 17/20] END metric=manhattan, n_neighbors=1;, score=(train=1.000, test=1.000) total time=   0.0s\n",
      "[CV 18/20] END metric=manhattan, n_neighbors=1;, score=(train=1.000, test=0.833) total time=   0.0s\n",
      "[CV 19/20] END metric=manhattan, n_neighbors=1;, score=(train=1.000, test=0.833) total time=   0.0s\n",
      "[CV 20/20] END metric=manhattan, n_neighbors=1;, score=(train=1.000, test=1.000) total time=   0.0s\n",
      "[CV 1/20] END metric=chebyshev, n_neighbors=1;, score=(train=1.000, test=0.833) total time=   0.0s\n",
      "[CV 2/20] END metric=chebyshev, n_neighbors=1;, score=(train=1.000, test=1.000) total time=   0.0s\n",
      "[CV 3/20] END metric=chebyshev, n_neighbors=1;, score=(train=1.000, test=0.833) total time=   0.0s\n",
      "[CV 4/20] END metric=chebyshev, n_neighbors=1;, score=(train=1.000, test=1.000) total time=   0.0s\n",
      "[CV 5/20] END metric=chebyshev, n_neighbors=1;, score=(train=1.000, test=1.000) total time=   0.0s\n",
      "[CV 6/20] END metric=chebyshev, n_neighbors=1;, score=(train=1.000, test=0.833) total time=   0.0s\n",
      "[CV 7/20] END metric=chebyshev, n_neighbors=1;, score=(train=1.000, test=1.000) total time=   0.0s\n",
      "[CV 8/20] END metric=chebyshev, n_neighbors=1;, score=(train=1.000, test=1.000) total time=   0.0s\n",
      "[CV 9/20] END metric=chebyshev, n_neighbors=1;, score=(train=1.000, test=1.000) total time=   0.0s\n",
      "[CV 10/20] END metric=chebyshev, n_neighbors=1;, score=(train=1.000, test=1.000) total time=   0.0s\n",
      "[CV 11/20] END metric=chebyshev, n_neighbors=1;, score=(train=1.000, test=0.833) total time=   0.0s\n",
      "[CV 12/20] END metric=chebyshev, n_neighbors=1;, score=(train=1.000, test=1.000) total time=   0.0s\n",
      "[CV 13/20] END metric=chebyshev, n_neighbors=1;, score=(train=1.000, test=1.000) total time=   0.0s\n",
      "[CV 14/20] END metric=chebyshev, n_neighbors=1;, score=(train=1.000, test=1.000) total time=   0.0s\n",
      "[CV 15/20] END metric=chebyshev, n_neighbors=1;, score=(train=1.000, test=1.000) total time=   0.0s\n",
      "[CV 16/20] END metric=chebyshev, n_neighbors=1;, score=(train=1.000, test=1.000) total time=   0.0s\n",
      "[CV 17/20] END metric=chebyshev, n_neighbors=1;, score=(train=1.000, test=1.000) total time=   0.0s\n",
      "[CV 18/20] END metric=chebyshev, n_neighbors=1;, score=(train=1.000, test=0.833) total time=   0.0s\n",
      "[CV 19/20] END metric=chebyshev, n_neighbors=1;, score=(train=1.000, test=1.000) total time=   0.0s\n",
      "[CV 20/20] END metric=chebyshev, n_neighbors=1;, score=(train=1.000, test=1.000) total time=   0.0s\n",
      "[CV 1/20] END metric=cosine, n_neighbors=1;, score=(train=1.000, test=0.667) total time=   0.0s\n",
      "[CV 2/20] END metric=cosine, n_neighbors=1;, score=(train=1.000, test=0.667) total time=   0.0s\n",
      "[CV 3/20] END metric=cosine, n_neighbors=1;, score=(train=1.000, test=0.833) total time=   0.0s\n",
      "[CV 4/20] END metric=cosine, n_neighbors=1;, score=(train=1.000, test=1.000) total time=   0.0s\n",
      "[CV 5/20] END metric=cosine, n_neighbors=1;, score=(train=1.000, test=1.000) total time=   0.0s\n",
      "[CV 6/20] END metric=cosine, n_neighbors=1;, score=(train=1.000, test=0.833) total time=   0.0s\n",
      "[CV 7/20] END metric=cosine, n_neighbors=1;, score=(train=1.000, test=1.000) total time=   0.0s\n",
      "[CV 8/20] END metric=cosine, n_neighbors=1;, score=(train=1.000, test=0.833) total time=   0.0s\n",
      "[CV 9/20] END metric=cosine, n_neighbors=1;, score=(train=1.000, test=0.833) total time=   0.0s\n",
      "[CV 10/20] END metric=cosine, n_neighbors=1;, score=(train=1.000, test=1.000) total time=   0.0s\n",
      "[CV 11/20] END metric=cosine, n_neighbors=1;, score=(train=1.000, test=0.833) total time=   0.0s\n",
      "[CV 12/20] END metric=cosine, n_neighbors=1;, score=(train=1.000, test=1.000) total time=   0.0s\n",
      "[CV 13/20] END metric=cosine, n_neighbors=1;, score=(train=1.000, test=1.000) total time=   0.0s\n",
      "[CV 14/20] END metric=cosine, n_neighbors=1;, score=(train=1.000, test=1.000) total time=   0.0s\n",
      "[CV 15/20] END metric=cosine, n_neighbors=1;, score=(train=1.000, test=1.000) total time=   0.0s\n",
      "[CV 16/20] END metric=cosine, n_neighbors=1;, score=(train=1.000, test=1.000) total time=   0.0s\n",
      "[CV 17/20] END metric=cosine, n_neighbors=1;, score=(train=1.000, test=0.833) total time=   0.0s\n",
      "[CV 18/20] END metric=cosine, n_neighbors=1;, score=(train=1.000, test=0.667) total time=   0.0s\n",
      "[CV 19/20] END metric=cosine, n_neighbors=1;, score=(train=1.000, test=0.667) total time=   0.0s\n",
      "[CV 20/20] END metric=cosine, n_neighbors=1;, score=(train=1.000, test=0.833) total time=   0.0s\n",
      "[CV 1/20] END metric=hamming, n_neighbors=1;, score=(train=1.000, test=0.333) total time=   0.0s\n",
      "[CV 2/20] END metric=hamming, n_neighbors=1;, score=(train=1.000, test=0.333) total time=   0.0s\n",
      "[CV 3/20] END metric=hamming, n_neighbors=1;, score=(train=1.000, test=0.333) total time=   0.0s\n",
      "[CV 4/20] END metric=hamming, n_neighbors=1;, score=(train=1.000, test=0.500) total time=   0.0s\n",
      "[CV 5/20] END metric=hamming, n_neighbors=1;, score=(train=1.000, test=0.333) total time=   0.0s\n",
      "[CV 6/20] END metric=hamming, n_neighbors=1;, score=(train=1.000, test=0.333) total time=   0.0s\n",
      "[CV 7/20] END metric=hamming, n_neighbors=1;, score=(train=1.000, test=0.500) total time=   0.0s\n",
      "[CV 8/20] END metric=hamming, n_neighbors=1;, score=(train=1.000, test=0.333) total time=   0.0s\n",
      "[CV 9/20] END metric=hamming, n_neighbors=1;, score=(train=1.000, test=0.333) total time=   0.0s\n",
      "[CV 10/20] END metric=hamming, n_neighbors=1;, score=(train=1.000, test=0.333) total time=   0.0s\n",
      "[CV 11/20] END metric=hamming, n_neighbors=1;, score=(train=1.000, test=0.333) total time=   0.0s\n",
      "[CV 12/20] END metric=hamming, n_neighbors=1;, score=(train=1.000, test=0.333) total time=   0.0s\n",
      "[CV 13/20] END metric=hamming, n_neighbors=1;, score=(train=1.000, test=0.333) total time=   0.0s\n",
      "[CV 14/20] END metric=hamming, n_neighbors=1;, score=(train=1.000, test=0.333) total time=   0.0s\n",
      "[CV 15/20] END metric=hamming, n_neighbors=1;, score=(train=1.000, test=0.333) total time=   0.0s\n",
      "[CV 16/20] END metric=hamming, n_neighbors=1;, score=(train=1.000, test=0.333) total time=   0.0s\n",
      "[CV 17/20] END metric=hamming, n_neighbors=1;, score=(train=1.000, test=0.333) total time=   0.0s\n"
     ]
    },
    {
     "name": "stdout",
     "output_type": "stream",
     "text": [
      "[CV 18/20] END metric=hamming, n_neighbors=1;, score=(train=1.000, test=0.333) total time=   0.0s\n",
      "[CV 19/20] END metric=hamming, n_neighbors=1;, score=(train=1.000, test=0.333) total time=   0.0s\n",
      "[CV 20/20] END metric=hamming, n_neighbors=1;, score=(train=1.000, test=0.333) total time=   0.0s\n",
      "[CV 1/20] END metric=canberra, n_neighbors=1;, score=(train=1.000, test=0.833) total time=   0.0s\n",
      "[CV 2/20] END metric=canberra, n_neighbors=1;, score=(train=1.000, test=0.667) total time=   0.0s\n",
      "[CV 3/20] END metric=canberra, n_neighbors=1;, score=(train=1.000, test=0.667) total time=   0.0s\n",
      "[CV 4/20] END metric=canberra, n_neighbors=1;, score=(train=1.000, test=1.000) total time=   0.0s\n",
      "[CV 5/20] END metric=canberra, n_neighbors=1;, score=(train=1.000, test=1.000) total time=   0.0s\n",
      "[CV 6/20] END metric=canberra, n_neighbors=1;, score=(train=1.000, test=0.833) total time=   0.0s\n",
      "[CV 7/20] END metric=canberra, n_neighbors=1;, score=(train=1.000, test=1.000) total time=   0.0s\n",
      "[CV 8/20] END metric=canberra, n_neighbors=1;, score=(train=1.000, test=1.000) total time=   0.0s\n",
      "[CV 9/20] END metric=canberra, n_neighbors=1;, score=(train=1.000, test=1.000) total time=   0.0s\n",
      "[CV 10/20] END metric=canberra, n_neighbors=1;, score=(train=1.000, test=0.833) total time=   0.0s\n",
      "[CV 11/20] END metric=canberra, n_neighbors=1;, score=(train=1.000, test=0.833) total time=   0.0s\n",
      "[CV 12/20] END metric=canberra, n_neighbors=1;, score=(train=1.000, test=0.833) total time=   0.0s\n",
      "[CV 13/20] END metric=canberra, n_neighbors=1;, score=(train=1.000, test=0.833) total time=   0.0s\n",
      "[CV 14/20] END metric=canberra, n_neighbors=1;, score=(train=1.000, test=0.833) total time=   0.0s\n",
      "[CV 15/20] END metric=canberra, n_neighbors=1;, score=(train=1.000, test=1.000) total time=   0.0s\n",
      "[CV 16/20] END metric=canberra, n_neighbors=1;, score=(train=1.000, test=1.000) total time=   0.0s\n",
      "[CV 17/20] END metric=canberra, n_neighbors=1;, score=(train=1.000, test=1.000) total time=   0.0s\n",
      "[CV 18/20] END metric=canberra, n_neighbors=1;, score=(train=1.000, test=0.833) total time=   0.0s\n",
      "[CV 19/20] END metric=canberra, n_neighbors=1;, score=(train=1.000, test=1.000) total time=   0.0s\n",
      "[CV 20/20] END metric=canberra, n_neighbors=1;, score=(train=1.000, test=1.000) total time=   0.0s\n",
      "[CV 1/20] END metric=braycurtis, n_neighbors=1;, score=(train=1.000, test=0.833) total time=   0.0s\n",
      "[CV 2/20] END metric=braycurtis, n_neighbors=1;, score=(train=1.000, test=1.000) total time=   0.0s\n",
      "[CV 3/20] END metric=braycurtis, n_neighbors=1;, score=(train=1.000, test=0.833) total time=   0.0s\n",
      "[CV 4/20] END metric=braycurtis, n_neighbors=1;, score=(train=1.000, test=1.000) total time=   0.0s\n",
      "[CV 5/20] END metric=braycurtis, n_neighbors=1;, score=(train=1.000, test=1.000) total time=   0.0s\n",
      "[CV 6/20] END metric=braycurtis, n_neighbors=1;, score=(train=1.000, test=0.833) total time=   0.0s\n",
      "[CV 7/20] END metric=braycurtis, n_neighbors=1;, score=(train=1.000, test=1.000) total time=   0.0s\n",
      "[CV 8/20] END metric=braycurtis, n_neighbors=1;, score=(train=1.000, test=1.000) total time=   0.0s\n",
      "[CV 9/20] END metric=braycurtis, n_neighbors=1;, score=(train=1.000, test=1.000) total time=   0.0s\n",
      "[CV 10/20] END metric=braycurtis, n_neighbors=1;, score=(train=1.000, test=1.000) total time=   0.0s\n",
      "[CV 11/20] END metric=braycurtis, n_neighbors=1;, score=(train=1.000, test=0.833) total time=   0.0s\n",
      "[CV 12/20] END metric=braycurtis, n_neighbors=1;, score=(train=1.000, test=1.000) total time=   0.0s\n",
      "[CV 13/20] END metric=braycurtis, n_neighbors=1;, score=(train=1.000, test=1.000) total time=   0.0s\n",
      "[CV 14/20] END metric=braycurtis, n_neighbors=1;, score=(train=1.000, test=1.000) total time=   0.0s\n",
      "[CV 15/20] END metric=braycurtis, n_neighbors=1;, score=(train=1.000, test=1.000) total time=   0.0s\n",
      "[CV 16/20] END metric=braycurtis, n_neighbors=1;, score=(train=1.000, test=1.000) total time=   0.0s\n",
      "[CV 17/20] END metric=braycurtis, n_neighbors=1;, score=(train=1.000, test=1.000) total time=   0.0s\n",
      "[CV 18/20] END metric=braycurtis, n_neighbors=1;, score=(train=1.000, test=0.833) total time=   0.0s\n",
      "[CV 19/20] END metric=braycurtis, n_neighbors=1;, score=(train=1.000, test=0.833) total time=   0.0s\n",
      "[CV 20/20] END metric=braycurtis, n_neighbors=1;, score=(train=1.000, test=1.000) total time=   0.0s\n",
      "Fitting 20 folds for each of 8 candidates, totalling 160 fits\n",
      "[CV 1/20] END metric=minkowski, n_neighbors=3;, score=(train=0.982, test=0.833) total time=   0.0s\n",
      "[CV 2/20] END metric=minkowski, n_neighbors=3;, score=(train=0.965, test=1.000) total time=   0.0s\n",
      "[CV 3/20] END metric=minkowski, n_neighbors=3;, score=(train=0.974, test=0.833) total time=   0.0s\n",
      "[CV 4/20] END metric=minkowski, n_neighbors=3;, score=(train=0.965, test=1.000) total time=   0.0s\n",
      "[CV 5/20] END metric=minkowski, n_neighbors=3;, score=(train=0.965, test=1.000) total time=   0.0s\n",
      "[CV 6/20] END metric=minkowski, n_neighbors=3;, score=(train=0.974, test=0.667) total time=   0.0s\n",
      "[CV 7/20] END metric=minkowski, n_neighbors=3;, score=(train=0.965, test=1.000) total time=   0.0s\n",
      "[CV 8/20] END metric=minkowski, n_neighbors=3;, score=(train=0.965, test=1.000) total time=   0.0s\n",
      "[CV 9/20] END metric=minkowski, n_neighbors=3;, score=(train=0.965, test=1.000) total time=   0.0s\n",
      "[CV 10/20] END metric=minkowski, n_neighbors=3;, score=(train=0.965, test=1.000) total time=   0.0s\n",
      "[CV 11/20] END metric=minkowski, n_neighbors=3;, score=(train=0.974, test=0.833) total time=   0.0s\n",
      "[CV 12/20] END metric=minkowski, n_neighbors=3;, score=(train=0.965, test=1.000) total time=   0.0s\n",
      "[CV 13/20] END metric=minkowski, n_neighbors=3;, score=(train=0.965, test=1.000) total time=   0.0s\n",
      "[CV 14/20] END metric=minkowski, n_neighbors=3;, score=(train=0.982, test=1.000) total time=   0.0s\n",
      "[CV 15/20] END metric=minkowski, n_neighbors=3;, score=(train=0.965, test=1.000) total time=   0.0s\n",
      "[CV 16/20] END metric=minkowski, n_neighbors=3;, score=(train=0.965, test=1.000) total time=   0.0s\n",
      "[CV 17/20] END metric=minkowski, n_neighbors=3;, score=(train=0.965, test=1.000) total time=   0.0s\n",
      "[CV 18/20] END metric=minkowski, n_neighbors=3;, score=(train=0.974, test=0.833) total time=   0.0s\n",
      "[CV 19/20] END metric=minkowski, n_neighbors=3;, score=(train=0.965, test=1.000) total time=   0.0s\n",
      "[CV 20/20] END metric=minkowski, n_neighbors=3;, score=(train=0.965, test=1.000) total time=   0.0s\n",
      "[CV 1/20] END metric=euclidean, n_neighbors=3;, score=(train=0.982, test=0.833) total time=   0.0s\n",
      "[CV 2/20] END metric=euclidean, n_neighbors=3;, score=(train=0.965, test=1.000) total time=   0.0s\n",
      "[CV 3/20] END metric=euclidean, n_neighbors=3;, score=(train=0.974, test=0.833) total time=   0.0s\n",
      "[CV 4/20] END metric=euclidean, n_neighbors=3;, score=(train=0.965, test=1.000) total time=   0.0s\n",
      "[CV 5/20] END metric=euclidean, n_neighbors=3;, score=(train=0.965, test=1.000) total time=   0.0s\n",
      "[CV 6/20] END metric=euclidean, n_neighbors=3;, score=(train=0.974, test=0.667) total time=   0.0s\n",
      "[CV 7/20] END metric=euclidean, n_neighbors=3;, score=(train=0.965, test=1.000) total time=   0.0s\n",
      "[CV 8/20] END metric=euclidean, n_neighbors=3;, score=(train=0.965, test=1.000) total time=   0.0s\n",
      "[CV 9/20] END metric=euclidean, n_neighbors=3;, score=(train=0.965, test=1.000) total time=   0.0s\n",
      "[CV 10/20] END metric=euclidean, n_neighbors=3;, score=(train=0.965, test=1.000) total time=   0.0s\n",
      "[CV 11/20] END metric=euclidean, n_neighbors=3;, score=(train=0.974, test=0.833) total time=   0.0s\n",
      "[CV 12/20] END metric=euclidean, n_neighbors=3;, score=(train=0.965, test=1.000) total time=   0.0s\n",
      "[CV 13/20] END metric=euclidean, n_neighbors=3;, score=(train=0.965, test=1.000) total time=   0.0s\n",
      "[CV 14/20] END metric=euclidean, n_neighbors=3;, score=(train=0.982, test=1.000) total time=   0.0s\n",
      "[CV 15/20] END metric=euclidean, n_neighbors=3;, score=(train=0.965, test=1.000) total time=   0.0s\n",
      "[CV 16/20] END metric=euclidean, n_neighbors=3;, score=(train=0.965, test=1.000) total time=   0.0s\n",
      "[CV 17/20] END metric=euclidean, n_neighbors=3;, score=(train=0.965, test=1.000) total time=   0.0s\n",
      "[CV 18/20] END metric=euclidean, n_neighbors=3;, score=(train=0.974, test=0.833) total time=   0.0s\n",
      "[CV 19/20] END metric=euclidean, n_neighbors=3;, score=(train=0.965, test=1.000) total time=   0.0s\n",
      "[CV 20/20] END metric=euclidean, n_neighbors=3;, score=(train=0.965, test=1.000) total time=   0.0s\n",
      "[CV 1/20] END metric=manhattan, n_neighbors=3;, score=(train=0.982, test=0.833) total time=   0.0s\n",
      "[CV 2/20] END metric=manhattan, n_neighbors=3;, score=(train=0.974, test=1.000) total time=   0.0s\n",
      "[CV 3/20] END metric=manhattan, n_neighbors=3;, score=(train=0.982, test=0.833) total time=   0.0s\n",
      "[CV 4/20] END metric=manhattan, n_neighbors=3;, score=(train=0.974, test=1.000) total time=   0.0s\n",
      "[CV 5/20] END metric=manhattan, n_neighbors=3;, score=(train=0.974, test=1.000) total time=   0.0s\n",
      "[CV 6/20] END metric=manhattan, n_neighbors=3;, score=(train=0.982, test=0.667) total time=   0.0s\n",
      "[CV 7/20] END metric=manhattan, n_neighbors=3;, score=(train=0.974, test=1.000) total time=   0.0s\n",
      "[CV 8/20] END metric=manhattan, n_neighbors=3;, score=(train=0.974, test=1.000) total time=   0.0s\n",
      "[CV 9/20] END metric=manhattan, n_neighbors=3;, score=(train=0.974, test=1.000) total time=   0.0s\n",
      "[CV 10/20] END metric=manhattan, n_neighbors=3;, score=(train=0.974, test=1.000) total time=   0.0s\n",
      "[CV 11/20] END metric=manhattan, n_neighbors=3;, score=(train=0.982, test=0.833) total time=   0.0s\n",
      "[CV 12/20] END metric=manhattan, n_neighbors=3;, score=(train=0.974, test=1.000) total time=   0.0s\n",
      "[CV 13/20] END metric=manhattan, n_neighbors=3;, score=(train=0.974, test=1.000) total time=   0.0s\n",
      "[CV 14/20] END metric=manhattan, n_neighbors=3;, score=(train=0.982, test=1.000) total time=   0.0s\n",
      "[CV 15/20] END metric=manhattan, n_neighbors=3;, score=(train=0.974, test=1.000) total time=   0.0s\n",
      "[CV 16/20] END metric=manhattan, n_neighbors=3;, score=(train=0.974, test=1.000) total time=   0.0s\n",
      "[CV 17/20] END metric=manhattan, n_neighbors=3;, score=(train=0.974, test=1.000) total time=   0.0s\n",
      "[CV 18/20] END metric=manhattan, n_neighbors=3;, score=(train=0.974, test=1.000) total time=   0.0s\n",
      "[CV 19/20] END metric=manhattan, n_neighbors=3;, score=(train=0.974, test=1.000) total time=   0.0s\n",
      "[CV 20/20] END metric=manhattan, n_neighbors=3;, score=(train=0.974, test=1.000) total time=   0.0s\n",
      "[CV 1/20] END metric=chebyshev, n_neighbors=3;, score=(train=0.974, test=1.000) total time=   0.0s\n",
      "[CV 2/20] END metric=chebyshev, n_neighbors=3;, score=(train=0.974, test=1.000) total time=   0.0s\n",
      "[CV 3/20] END metric=chebyshev, n_neighbors=3;, score=(train=0.982, test=0.833) total time=   0.0s\n",
      "[CV 4/20] END metric=chebyshev, n_neighbors=3;, score=(train=0.974, test=1.000) total time=   0.0s\n",
      "[CV 5/20] END metric=chebyshev, n_neighbors=3;, score=(train=0.974, test=1.000) total time=   0.0s\n",
      "[CV 6/20] END metric=chebyshev, n_neighbors=3;, score=(train=0.974, test=0.833) total time=   0.0s\n",
      "[CV 7/20] END metric=chebyshev, n_neighbors=3;, score=(train=0.982, test=1.000) total time=   0.0s\n",
      "[CV 8/20] END metric=chebyshev, n_neighbors=3;, score=(train=0.974, test=1.000) total time=   0.0s\n",
      "[CV 9/20] END metric=chebyshev, n_neighbors=3;, score=(train=0.974, test=1.000) total time=   0.0s\n",
      "[CV 10/20] END metric=chebyshev, n_neighbors=3;, score=(train=0.974, test=1.000) total time=   0.0s\n",
      "[CV 11/20] END metric=chebyshev, n_neighbors=3;, score=(train=0.982, test=0.833) total time=   0.0s\n",
      "[CV 12/20] END metric=chebyshev, n_neighbors=3;, score=(train=0.974, test=1.000) total time=   0.0s\n",
      "[CV 13/20] END metric=chebyshev, n_neighbors=3;, score=(train=0.974, test=1.000) total time=   0.0s\n",
      "[CV 14/20] END metric=chebyshev, n_neighbors=3;, score=(train=0.982, test=1.000) total time=   0.0s\n",
      "[CV 15/20] END metric=chebyshev, n_neighbors=3;, score=(train=0.974, test=0.833) total time=   0.0s\n",
      "[CV 16/20] END metric=chebyshev, n_neighbors=3;, score=(train=0.974, test=1.000) total time=   0.0s\n",
      "[CV 17/20] END metric=chebyshev, n_neighbors=3;, score=(train=0.974, test=1.000) total time=   0.0s\n"
     ]
    },
    {
     "name": "stdout",
     "output_type": "stream",
     "text": [
      "[CV 18/20] END metric=chebyshev, n_neighbors=3;, score=(train=0.991, test=0.833) total time=   0.0s\n",
      "[CV 19/20] END metric=chebyshev, n_neighbors=3;, score=(train=0.974, test=1.000) total time=   0.0s\n",
      "[CV 20/20] END metric=chebyshev, n_neighbors=3;, score=(train=0.974, test=1.000) total time=   0.0s\n",
      "[CV 1/20] END metric=cosine, n_neighbors=3;, score=(train=0.939, test=0.667) total time=   0.0s\n",
      "[CV 2/20] END metric=cosine, n_neighbors=3;, score=(train=0.930, test=0.667) total time=   0.0s\n",
      "[CV 3/20] END metric=cosine, n_neighbors=3;, score=(train=0.930, test=0.833) total time=   0.0s\n",
      "[CV 4/20] END metric=cosine, n_neighbors=3;, score=(train=0.912, test=1.000) total time=   0.0s\n",
      "[CV 5/20] END metric=cosine, n_neighbors=3;, score=(train=0.912, test=0.833) total time=   0.0s\n",
      "[CV 6/20] END metric=cosine, n_neighbors=3;, score=(train=0.930, test=0.833) total time=   0.0s\n",
      "[CV 7/20] END metric=cosine, n_neighbors=3;, score=(train=0.921, test=1.000) total time=   0.0s\n",
      "[CV 8/20] END metric=cosine, n_neighbors=3;, score=(train=0.921, test=1.000) total time=   0.0s\n",
      "[CV 9/20] END metric=cosine, n_neighbors=3;, score=(train=0.912, test=1.000) total time=   0.0s\n",
      "[CV 10/20] END metric=cosine, n_neighbors=3;, score=(train=0.921, test=1.000) total time=   0.0s\n",
      "[CV 11/20] END metric=cosine, n_neighbors=3;, score=(train=0.921, test=0.667) total time=   0.0s\n",
      "[CV 12/20] END metric=cosine, n_neighbors=3;, score=(train=0.921, test=1.000) total time=   0.0s\n",
      "[CV 13/20] END metric=cosine, n_neighbors=3;, score=(train=0.921, test=1.000) total time=   0.0s\n",
      "[CV 14/20] END metric=cosine, n_neighbors=3;, score=(train=0.921, test=0.833) total time=   0.0s\n",
      "[CV 15/20] END metric=cosine, n_neighbors=3;, score=(train=0.921, test=1.000) total time=   0.0s\n",
      "[CV 16/20] END metric=cosine, n_neighbors=3;, score=(train=0.921, test=1.000) total time=   0.0s\n",
      "[CV 17/20] END metric=cosine, n_neighbors=3;, score=(train=0.930, test=0.833) total time=   0.0s\n",
      "[CV 18/20] END metric=cosine, n_neighbors=3;, score=(train=0.930, test=0.833) total time=   0.0s\n",
      "[CV 19/20] END metric=cosine, n_neighbors=3;, score=(train=0.930, test=0.667) total time=   0.0s\n",
      "[CV 20/20] END metric=cosine, n_neighbors=3;, score=(train=0.921, test=1.000) total time=   0.0s\n",
      "[CV 1/20] END metric=hamming, n_neighbors=3;, score=(train=0.351, test=0.333) total time=   0.0s\n",
      "[CV 2/20] END metric=hamming, n_neighbors=3;, score=(train=0.351, test=0.333) total time=   0.0s\n",
      "[CV 3/20] END metric=hamming, n_neighbors=3;, score=(train=0.351, test=0.333) total time=   0.0s\n",
      "[CV 4/20] END metric=hamming, n_neighbors=3;, score=(train=0.333, test=0.333) total time=   0.0s\n",
      "[CV 5/20] END metric=hamming, n_neighbors=3;, score=(train=0.351, test=0.333) total time=   0.0s\n",
      "[CV 6/20] END metric=hamming, n_neighbors=3;, score=(train=0.351, test=0.333) total time=   0.0s\n",
      "[CV 7/20] END metric=hamming, n_neighbors=3;, score=(train=0.333, test=0.333) total time=   0.0s\n",
      "[CV 8/20] END metric=hamming, n_neighbors=3;, score=(train=0.684, test=0.333) total time=   0.0s\n",
      "[CV 9/20] END metric=hamming, n_neighbors=3;, score=(train=0.351, test=0.333) total time=   0.0s\n",
      "[CV 10/20] END metric=hamming, n_neighbors=3;, score=(train=0.684, test=0.333) total time=   0.0s\n",
      "[CV 11/20] END metric=hamming, n_neighbors=3;, score=(train=0.684, test=0.333) total time=   0.0s\n",
      "[CV 12/20] END metric=hamming, n_neighbors=3;, score=(train=0.351, test=0.333) total time=   0.0s\n",
      "[CV 13/20] END metric=hamming, n_neighbors=3;, score=(train=0.351, test=0.333) total time=   0.0s\n",
      "[CV 14/20] END metric=hamming, n_neighbors=3;, score=(train=0.351, test=0.333) total time=   0.0s\n",
      "[CV 15/20] END metric=hamming, n_neighbors=3;, score=(train=0.351, test=0.333) total time=   0.0s\n",
      "[CV 16/20] END metric=hamming, n_neighbors=3;, score=(train=0.684, test=0.333) total time=   0.0s\n",
      "[CV 17/20] END metric=hamming, n_neighbors=3;, score=(train=0.684, test=0.333) total time=   0.0s\n",
      "[CV 18/20] END metric=hamming, n_neighbors=3;, score=(train=0.351, test=0.333) total time=   0.0s\n",
      "[CV 19/20] END metric=hamming, n_neighbors=3;, score=(train=0.351, test=0.333) total time=   0.0s\n",
      "[CV 20/20] END metric=hamming, n_neighbors=3;, score=(train=0.684, test=0.333) total time=   0.0s\n",
      "[CV 1/20] END metric=canberra, n_neighbors=3;, score=(train=0.965, test=0.667) total time=   0.0s\n",
      "[CV 2/20] END metric=canberra, n_neighbors=3;, score=(train=0.939, test=1.000) total time=   0.0s\n",
      "[CV 3/20] END metric=canberra, n_neighbors=3;, score=(train=0.947, test=0.833) total time=   0.0s\n",
      "[CV 4/20] END metric=canberra, n_neighbors=3;, score=(train=0.939, test=1.000) total time=   0.0s\n",
      "[CV 5/20] END metric=canberra, n_neighbors=3;, score=(train=0.947, test=1.000) total time=   0.0s\n",
      "[CV 6/20] END metric=canberra, n_neighbors=3;, score=(train=0.947, test=0.833) total time=   0.0s\n",
      "[CV 7/20] END metric=canberra, n_neighbors=3;, score=(train=0.947, test=1.000) total time=   0.0s\n",
      "[CV 8/20] END metric=canberra, n_neighbors=3;, score=(train=0.947, test=1.000) total time=   0.0s\n",
      "[CV 9/20] END metric=canberra, n_neighbors=3;, score=(train=0.947, test=1.000) total time=   0.0s\n",
      "[CV 10/20] END metric=canberra, n_neighbors=3;, score=(train=0.947, test=0.833) total time=   0.0s\n",
      "[CV 11/20] END metric=canberra, n_neighbors=3;, score=(train=0.965, test=0.833) total time=   0.0s\n",
      "[CV 12/20] END metric=canberra, n_neighbors=3;, score=(train=0.947, test=1.000) total time=   0.0s\n",
      "[CV 13/20] END metric=canberra, n_neighbors=3;, score=(train=0.947, test=1.000) total time=   0.0s\n",
      "[CV 14/20] END metric=canberra, n_neighbors=3;, score=(train=0.965, test=0.667) total time=   0.0s\n",
      "[CV 15/20] END metric=canberra, n_neighbors=3;, score=(train=0.947, test=1.000) total time=   0.0s\n",
      "[CV 16/20] END metric=canberra, n_neighbors=3;, score=(train=0.947, test=1.000) total time=   0.0s\n",
      "[CV 17/20] END metric=canberra, n_neighbors=3;, score=(train=0.947, test=0.833) total time=   0.0s\n",
      "[CV 18/20] END metric=canberra, n_neighbors=3;, score=(train=0.965, test=0.833) total time=   0.0s\n",
      "[CV 19/20] END metric=canberra, n_neighbors=3;, score=(train=0.947, test=1.000) total time=   0.0s\n",
      "[CV 20/20] END metric=canberra, n_neighbors=3;, score=(train=0.947, test=1.000) total time=   0.0s\n",
      "[CV 1/20] END metric=braycurtis, n_neighbors=3;, score=(train=0.991, test=0.833) total time=   0.0s\n",
      "[CV 2/20] END metric=braycurtis, n_neighbors=3;, score=(train=0.982, test=1.000) total time=   0.0s\n",
      "[CV 3/20] END metric=braycurtis, n_neighbors=3;, score=(train=0.991, test=0.833) total time=   0.0s\n",
      "[CV 4/20] END metric=braycurtis, n_neighbors=3;, score=(train=0.982, test=1.000) total time=   0.0s\n",
      "[CV 5/20] END metric=braycurtis, n_neighbors=3;, score=(train=0.974, test=1.000) total time=   0.0s\n",
      "[CV 6/20] END metric=braycurtis, n_neighbors=3;, score=(train=0.982, test=1.000) total time=   0.0s\n",
      "[CV 7/20] END metric=braycurtis, n_neighbors=3;, score=(train=0.982, test=1.000) total time=   0.0s\n",
      "[CV 8/20] END metric=braycurtis, n_neighbors=3;, score=(train=0.982, test=1.000) total time=   0.0s\n",
      "[CV 9/20] END metric=braycurtis, n_neighbors=3;, score=(train=0.982, test=1.000) total time=   0.0s\n",
      "[CV 10/20] END metric=braycurtis, n_neighbors=3;, score=(train=0.982, test=1.000) total time=   0.0s\n",
      "[CV 11/20] END metric=braycurtis, n_neighbors=3;, score=(train=0.982, test=0.833) total time=   0.0s\n",
      "[CV 12/20] END metric=braycurtis, n_neighbors=3;, score=(train=0.982, test=1.000) total time=   0.0s\n",
      "[CV 13/20] END metric=braycurtis, n_neighbors=3;, score=(train=0.982, test=1.000) total time=   0.0s\n",
      "[CV 14/20] END metric=braycurtis, n_neighbors=3;, score=(train=0.982, test=1.000) total time=   0.0s\n",
      "[CV 15/20] END metric=braycurtis, n_neighbors=3;, score=(train=0.991, test=1.000) total time=   0.0s\n",
      "[CV 16/20] END metric=braycurtis, n_neighbors=3;, score=(train=0.982, test=1.000) total time=   0.0s\n",
      "[CV 17/20] END metric=braycurtis, n_neighbors=3;, score=(train=0.982, test=1.000) total time=   0.0s\n",
      "[CV 18/20] END metric=braycurtis, n_neighbors=3;, score=(train=0.991, test=1.000) total time=   0.0s\n",
      "[CV 19/20] END metric=braycurtis, n_neighbors=3;, score=(train=0.982, test=1.000) total time=   0.0s\n",
      "[CV 20/20] END metric=braycurtis, n_neighbors=3;, score=(train=0.982, test=1.000) total time=   0.0s\n",
      "Fitting 20 folds for each of 8 candidates, totalling 160 fits\n",
      "[CV 1/20] END metric=minkowski;, score=(train=0.939, test=0.833) total time=   0.0s\n",
      "[CV 2/20] END metric=minkowski;, score=(train=0.930, test=1.000) total time=   0.0s\n",
      "[CV 3/20] END metric=minkowski;, score=(train=0.930, test=1.000) total time=   0.0s\n",
      "[CV 4/20] END metric=minkowski;, score=(train=0.921, test=1.000) total time=   0.0s\n",
      "[CV 5/20] END metric=minkowski;, score=(train=0.930, test=0.833) total time=   0.0s\n",
      "[CV 6/20] END metric=minkowski;, score=(train=0.947, test=0.667) total time=   0.0s\n",
      "[CV 7/20] END metric=minkowski;, score=(train=0.930, test=1.000) total time=   0.0s\n",
      "[CV 8/20] END metric=minkowski;, score=(train=0.939, test=1.000) total time=   0.0s\n",
      "[CV 9/20] END metric=minkowski;, score=(train=0.930, test=1.000) total time=   0.0s\n",
      "[CV 10/20] END metric=minkowski;, score=(train=0.930, test=1.000) total time=   0.0s\n",
      "[CV 11/20] END metric=minkowski;, score=(train=0.947, test=0.667) total time=   0.0s\n",
      "[CV 12/20] END metric=minkowski;, score=(train=0.912, test=1.000) total time=   0.0s\n",
      "[CV 13/20] END metric=minkowski;, score=(train=0.921, test=1.000) total time=   0.0s\n",
      "[CV 14/20] END metric=minkowski;, score=(train=0.930, test=0.833) total time=   0.0s\n",
      "[CV 15/20] END metric=minkowski;, score=(train=0.930, test=1.000) total time=   0.0s\n",
      "[CV 16/20] END metric=minkowski;, score=(train=0.930, test=1.000) total time=   0.0s\n",
      "[CV 17/20] END metric=minkowski;, score=(train=0.939, test=1.000) total time=   0.0s\n",
      "[CV 18/20] END metric=minkowski;, score=(train=0.939, test=0.667) total time=   0.0s\n",
      "[CV 19/20] END metric=minkowski;, score=(train=0.930, test=1.000) total time=   0.0s\n",
      "[CV 20/20] END metric=minkowski;, score=(train=0.939, test=1.000) total time=   0.0s\n",
      "[CV 1/20] END metric=euclidean;, score=(train=0.939, test=0.833) total time=   0.0s\n",
      "[CV 2/20] END metric=euclidean;, score=(train=0.930, test=1.000) total time=   0.0s\n",
      "[CV 3/20] END metric=euclidean;, score=(train=0.930, test=1.000) total time=   0.0s\n",
      "[CV 4/20] END metric=euclidean;, score=(train=0.921, test=1.000) total time=   0.0s\n",
      "[CV 5/20] END metric=euclidean;, score=(train=0.930, test=0.833) total time=   0.0s\n",
      "[CV 6/20] END metric=euclidean;, score=(train=0.947, test=0.667) total time=   0.0s\n",
      "[CV 7/20] END metric=euclidean;, score=(train=0.930, test=1.000) total time=   0.0s\n",
      "[CV 8/20] END metric=euclidean;, score=(train=0.939, test=1.000) total time=   0.0s\n",
      "[CV 9/20] END metric=euclidean;, score=(train=0.930, test=1.000) total time=   0.0s\n",
      "[CV 10/20] END metric=euclidean;, score=(train=0.930, test=1.000) total time=   0.0s\n",
      "[CV 11/20] END metric=euclidean;, score=(train=0.947, test=0.667) total time=   0.0s\n",
      "[CV 12/20] END metric=euclidean;, score=(train=0.912, test=1.000) total time=   0.0s\n",
      "[CV 13/20] END metric=euclidean;, score=(train=0.921, test=1.000) total time=   0.0s\n",
      "[CV 14/20] END metric=euclidean;, score=(train=0.930, test=0.833) total time=   0.0s\n",
      "[CV 15/20] END metric=euclidean;, score=(train=0.930, test=1.000) total time=   0.0s\n",
      "[CV 16/20] END metric=euclidean;, score=(train=0.930, test=1.000) total time=   0.0s\n",
      "[CV 17/20] END metric=euclidean;, score=(train=0.939, test=1.000) total time=   0.0s\n",
      "[CV 18/20] END metric=euclidean;, score=(train=0.939, test=0.667) total time=   0.0s\n",
      "[CV 19/20] END metric=euclidean;, score=(train=0.930, test=1.000) total time=   0.0s\n",
      "[CV 20/20] END metric=euclidean;, score=(train=0.939, test=1.000) total time=   0.0s\n",
      "[CV 1/20] END metric=manhattan;, score=(train=0.912, test=0.833) total time=   0.0s\n",
      "[CV 2/20] END metric=manhattan;, score=(train=0.921, test=1.000) total time=   0.0s\n",
      "[CV 3/20] END metric=manhattan;, score=(train=0.921, test=1.000) total time=   0.0s\n",
      "[CV 4/20] END metric=manhattan;, score=(train=0.904, test=1.000) total time=   0.0s\n",
      "[CV 5/20] END metric=manhattan;, score=(train=0.912, test=0.833) total time=   0.0s\n",
      "[CV 6/20] END metric=manhattan;, score=(train=0.904, test=0.667) total time=   0.0s\n",
      "[CV 7/20] END metric=manhattan;, score=(train=0.904, test=0.833) total time=   0.0s\n",
      "[CV 8/20] END metric=manhattan;, score=(train=0.912, test=1.000) total time=   0.0s\n",
      "[CV 9/20] END metric=manhattan;, score=(train=0.904, test=1.000) total time=   0.0s\n",
      "[CV 10/20] END metric=manhattan;, score=(train=0.895, test=1.000) total time=   0.0s\n",
      "[CV 11/20] END metric=manhattan;, score=(train=0.904, test=0.667) total time=   0.0s\n",
      "[CV 12/20] END metric=manhattan;, score=(train=0.895, test=1.000) total time=   0.0s\n",
      "[CV 13/20] END metric=manhattan;, score=(train=0.921, test=0.833) total time=   0.0s\n",
      "[CV 14/20] END metric=manhattan;, score=(train=0.895, test=0.833) total time=   0.0s\n",
      "[CV 15/20] END metric=manhattan;, score=(train=0.930, test=0.833) total time=   0.0s\n",
      "[CV 16/20] END metric=manhattan;, score=(train=0.912, test=1.000) total time=   0.0s\n",
      "[CV 17/20] END metric=manhattan;, score=(train=0.921, test=1.000) total time=   0.0s\n",
      "[CV 18/20] END metric=manhattan;, score=(train=0.921, test=0.667) total time=   0.0s\n",
      "[CV 19/20] END metric=manhattan;, score=(train=0.930, test=0.833) total time=   0.0s\n",
      "[CV 20/20] END metric=manhattan;, score=(train=0.912, test=1.000) total time=   0.0s\n",
      "[CV 1/20] END metric=chebyshev;, score=(train=0.939, test=0.833) total time=   0.0s\n",
      "[CV 2/20] END metric=chebyshev;, score=(train=0.930, test=1.000) total time=   0.0s\n",
      "[CV 3/20] END metric=chebyshev;, score=(train=0.912, test=1.000) total time=   0.0s\n",
      "[CV 4/20] END metric=chebyshev;, score=(train=0.912, test=1.000) total time=   0.0s\n",
      "[CV 5/20] END metric=chebyshev;, score=(train=0.930, test=0.833) total time=   0.0s\n",
      "[CV 6/20] END metric=chebyshev;, score=(train=0.939, test=0.667) total time=   0.0s\n",
      "[CV 7/20] END metric=chebyshev;, score=(train=0.921, test=1.000) total time=   0.0s\n",
      "[CV 8/20] END metric=chebyshev;, score=(train=0.921, test=1.000) total time=   0.0s\n",
      "[CV 9/20] END metric=chebyshev;, score=(train=0.921, test=1.000) total time=   0.0s\n",
      "[CV 10/20] END metric=chebyshev;, score=(train=0.921, test=1.000) total time=   0.0s\n",
      "[CV 11/20] END metric=chebyshev;, score=(train=0.939, test=0.667) total time=   0.0s\n",
      "[CV 12/20] END metric=chebyshev;, score=(train=0.930, test=1.000) total time=   0.0s\n",
      "[CV 13/20] END metric=chebyshev;, score=(train=0.930, test=0.833) total time=   0.0s\n",
      "[CV 14/20] END metric=chebyshev;, score=(train=0.930, test=0.833) total time=   0.0s\n",
      "[CV 15/20] END metric=chebyshev;, score=(train=0.921, test=1.000) total time=   0.0s\n",
      "[CV 16/20] END metric=chebyshev;, score=(train=0.921, test=1.000) total time=   0.0s\n",
      "[CV 17/20] END metric=chebyshev;, score=(train=0.921, test=1.000) total time=   0.0s\n",
      "[CV 18/20] END metric=chebyshev;, score=(train=0.939, test=0.667) total time=   0.0s\n",
      "[CV 19/20] END metric=chebyshev;, score=(train=0.921, test=1.000) total time=   0.0s\n",
      "[CV 20/20] END metric=chebyshev;, score=(train=0.912, test=1.000) total time=   0.0s\n",
      "[CV 1/20] END metric=cosine;, score=(train=0.772, test=0.833) total time=   0.0s\n",
      "[CV 2/20] END metric=cosine;, score=(train=0.754, test=0.833) total time=   0.0s\n",
      "[CV 3/20] END metric=cosine;, score=(train=0.746, test=0.833) total time=   0.0s\n",
      "[CV 4/20] END metric=cosine;, score=(train=0.772, test=0.500) total time=   0.0s\n",
      "[CV 5/20] END metric=cosine;, score=(train=0.763, test=0.667) total time=   0.0s\n",
      "[CV 6/20] END metric=cosine;, score=(train=0.746, test=0.833) total time=   0.0s\n",
      "[CV 7/20] END metric=cosine;, score=(train=0.772, test=0.500) total time=   0.0s\n",
      "[CV 8/20] END metric=cosine;, score=(train=0.754, test=0.667) total time=   0.0s\n",
      "[CV 9/20] END metric=cosine;, score=(train=0.737, test=1.000) total time=   0.0s\n",
      "[CV 10/20] END metric=cosine;, score=(train=0.746, test=1.000) total time=   0.0s\n",
      "[CV 11/20] END metric=cosine;, score=(train=0.772, test=0.500) total time=   0.0s\n",
      "[CV 12/20] END metric=cosine;, score=(train=0.763, test=0.667) total time=   0.0s\n",
      "[CV 13/20] END metric=cosine;, score=(train=0.746, test=0.833) total time=   0.0s\n",
      "[CV 14/20] END metric=cosine;, score=(train=0.754, test=0.833) total time=   0.0s\n",
      "[CV 15/20] END metric=cosine;, score=(train=0.763, test=0.833) total time=   0.0s\n",
      "[CV 16/20] END metric=cosine;, score=(train=0.754, test=0.667) total time=   0.0s\n",
      "[CV 17/20] END metric=cosine;, score=(train=0.754, test=0.667) total time=   0.0s\n",
      "[CV 18/20] END metric=cosine;, score=(train=0.746, test=0.667) total time=   0.0s\n",
      "[CV 19/20] END metric=cosine;, score=(train=0.772, test=0.667) total time=   0.0s\n",
      "[CV 20/20] END metric=cosine;, score=(train=0.737, test=1.000) total time=   0.0s\n",
      "[CV 1/20] END metric=hamming;, score=(train=0.333, test=0.333) total time=   0.0s\n",
      "[CV 2/20] END metric=hamming;, score=(train=0.333, test=0.333) total time=   0.0s\n",
      "[CV 3/20] END metric=hamming;, score=(train=0.333, test=0.333) total time=   0.0s\n",
      "[CV 4/20] END metric=hamming;, score=(train=0.333, test=0.333) total time=   0.0s\n",
      "[CV 5/20] END metric=hamming;, score=(train=0.333, test=0.333) total time=   0.0s\n",
      "[CV 6/20] END metric=hamming;, score=(train=0.333, test=0.333) total time=   0.0s\n",
      "[CV 7/20] END metric=hamming;, score=(train=0.333, test=0.333) total time=   0.0s\n",
      "[CV 8/20] END metric=hamming;, score=(train=0.333, test=0.333) total time=   0.0s\n",
      "[CV 9/20] END metric=hamming;, score=(train=0.333, test=0.333) total time=   0.0s\n",
      "[CV 10/20] END metric=hamming;, score=(train=0.333, test=0.333) total time=   0.0s\n",
      "[CV 11/20] END metric=hamming;, score=(train=0.333, test=0.333) total time=   0.0s\n",
      "[CV 12/20] END metric=hamming;, score=(train=0.333, test=0.333) total time=   0.0s\n",
      "[CV 13/20] END metric=hamming;, score=(train=0.333, test=0.333) total time=   0.0s\n",
      "[CV 14/20] END metric=hamming;, score=(train=0.333, test=0.333) total time=   0.0s\n",
      "[CV 15/20] END metric=hamming;, score=(train=0.333, test=0.333) total time=   0.0s\n",
      "[CV 16/20] END metric=hamming;, score=(train=0.333, test=0.333) total time=   0.0s\n",
      "[CV 17/20] END metric=hamming;, score=(train=0.333, test=0.333) total time=   0.0s\n",
      "[CV 18/20] END metric=hamming;, score=(train=0.333, test=0.333) total time=   0.0s\n",
      "[CV 19/20] END metric=hamming;, score=(train=0.333, test=0.333) total time=   0.0s\n",
      "[CV 20/20] END metric=hamming;, score=(train=0.333, test=0.333) total time=   0.0s\n",
      "[CV 1/20] END metric=canberra;, score=(train=0.719, test=0.833) total time=   0.0s\n",
      "[CV 2/20] END metric=canberra;, score=(train=0.693, test=0.833) total time=   0.0s\n",
      "[CV 3/20] END metric=canberra;, score=(train=0.711, test=0.833) total time=   0.0s\n"
     ]
    },
    {
     "name": "stdout",
     "output_type": "stream",
     "text": [
      "[CV 4/20] END metric=canberra;, score=(train=0.719, test=0.833) total time=   0.0s\n",
      "[CV 5/20] END metric=canberra;, score=(train=0.711, test=1.000) total time=   0.0s\n",
      "[CV 6/20] END metric=canberra;, score=(train=0.737, test=0.500) total time=   0.0s\n",
      "[CV 7/20] END metric=canberra;, score=(train=0.711, test=0.500) total time=   0.0s\n",
      "[CV 8/20] END metric=canberra;, score=(train=0.719, test=0.833) total time=   0.0s\n",
      "[CV 9/20] END metric=canberra;, score=(train=0.693, test=1.000) total time=   0.0s\n",
      "[CV 10/20] END metric=canberra;, score=(train=0.737, test=1.000) total time=   0.0s\n",
      "[CV 11/20] END metric=canberra;, score=(train=0.702, test=0.667) total time=   0.0s\n",
      "[CV 12/20] END metric=canberra;, score=(train=0.746, test=0.500) total time=   0.0s\n",
      "[CV 13/20] END metric=canberra;, score=(train=0.719, test=0.833) total time=   0.0s\n",
      "[CV 14/20] END metric=canberra;, score=(train=0.728, test=0.667) total time=   0.0s\n",
      "[CV 15/20] END metric=canberra;, score=(train=0.711, test=0.500) total time=   0.0s\n",
      "[CV 16/20] END metric=canberra;, score=(train=0.702, test=0.833) total time=   0.0s\n",
      "[CV 17/20] END metric=canberra;, score=(train=0.728, test=0.500) total time=   0.0s\n",
      "[CV 18/20] END metric=canberra;, score=(train=0.728, test=0.833) total time=   0.0s\n",
      "[CV 19/20] END metric=canberra;, score=(train=0.728, test=0.500) total time=   0.0s\n",
      "[CV 20/20] END metric=canberra;, score=(train=0.719, test=0.667) total time=   0.0s\n",
      "[CV 1/20] END metric=braycurtis;, score=(train=0.833, test=0.833) total time=   0.0s\n",
      "[CV 2/20] END metric=braycurtis;, score=(train=0.825, test=1.000) total time=   0.0s\n",
      "[CV 3/20] END metric=braycurtis;, score=(train=0.842, test=0.833) total time=   0.0s\n",
      "[CV 4/20] END metric=braycurtis;, score=(train=0.833, test=0.833) total time=   0.0s\n",
      "[CV 5/20] END metric=braycurtis;, score=(train=0.833, test=0.833) total time=   0.0s\n",
      "[CV 6/20] END metric=braycurtis;, score=(train=0.833, test=1.000) total time=   0.0s\n",
      "[CV 7/20] END metric=braycurtis;, score=(train=0.860, test=0.833) total time=   0.0s\n",
      "[CV 8/20] END metric=braycurtis;, score=(train=0.842, test=1.000) total time=   0.0s\n",
      "[CV 9/20] END metric=braycurtis;, score=(train=0.851, test=1.000) total time=   0.0s\n",
      "[CV 10/20] END metric=braycurtis;, score=(train=0.833, test=1.000) total time=   0.0s\n",
      "[CV 11/20] END metric=braycurtis;, score=(train=0.851, test=0.667) total time=   0.0s\n",
      "[CV 12/20] END metric=braycurtis;, score=(train=0.842, test=0.667) total time=   0.0s\n",
      "[CV 13/20] END metric=braycurtis;, score=(train=0.833, test=0.833) total time=   0.0s\n",
      "[CV 14/20] END metric=braycurtis;, score=(train=0.833, test=0.833) total time=   0.0s\n",
      "[CV 15/20] END metric=braycurtis;, score=(train=0.868, test=0.833) total time=   0.0s\n",
      "[CV 16/20] END metric=braycurtis;, score=(train=0.842, test=0.833) total time=   0.0s\n",
      "[CV 17/20] END metric=braycurtis;, score=(train=0.868, test=0.667) total time=   0.0s\n",
      "[CV 18/20] END metric=braycurtis;, score=(train=0.842, test=0.667) total time=   0.0s\n",
      "[CV 19/20] END metric=braycurtis;, score=(train=0.842, test=0.667) total time=   0.0s\n",
      "[CV 20/20] END metric=braycurtis;, score=(train=0.851, test=1.000) total time=   0.0s\n"
     ]
    }
   ],
   "source": [
    "from sklearn.model_selection import GridSearchCV\n",
    "scores = []\n",
    "\n",
    "for model_name, mp in model_params.items():\n",
    "    clf = GridSearchCV(mp['model'], mp['params'], cv=20, return_train_score=True, verbose=3)\n",
    "    clf.fit(X_pca_train, y_pca_train)\n",
    "    scores.append({\n",
    "        'model': model_name,\n",
    "        'best_score': clf.best_score_,\n",
    "        'best_params': clf.best_params_\n",
    "    })\n",
    "    \n",
    "df_score = pd.DataFrame(scores,columns=['model','best_score','best_params'])"
   ]
  },
  {
   "cell_type": "code",
   "execution_count": 10,
   "metadata": {
    "pycharm": {
     "name": "#%%\n"
    }
   },
   "outputs": [
    {
     "name": "stdout",
     "output_type": "stream",
     "text": [
      "  model  best_score                                 best_params\n",
      "0  1KNN    0.958333   {'metric': 'minkowski', 'n_neighbors': 1}\n",
      "1  3KNN    0.975000  {'metric': 'braycurtis', 'n_neighbors': 3}\n",
      "2    NC    0.925000                     {'metric': 'minkowski'}\n"
     ]
    }
   ],
   "source": [
    "df_score = pd.DataFrame(scores,columns=['model','best_score','best_params'])\n",
    "print(df_score)"
   ]
  }
 ],
 "metadata": {
  "kernelspec": {
   "display_name": "Python 3 (ipykernel)",
   "language": "python",
   "name": "python3"
  },
  "language_info": {
   "codemirror_mode": {
    "name": "ipython",
    "version": 3
   },
   "file_extension": ".py",
   "mimetype": "text/x-python",
   "name": "python",
   "nbconvert_exporter": "python",
   "pygments_lexer": "ipython3",
   "version": "3.9.12"
  }
 },
 "nbformat": 4,
 "nbformat_minor": 1
}